{
  "cells": [
    {
      "cell_type": "markdown",
      "metadata": {
        "id": "GNIwe5N7s0e_"
      },
      "source": [
        "# Real-world Data Wrangling - (Movies & TV Shows of Netflix & Amazon Prime)"
      ]
    },
    {
      "cell_type": "markdown",
      "metadata": {
        "id": "lDYDkH-Zs7Nn"
      },
      "source": [
        "## 1. Gather data\n",
        "\n",
        "\"In this part, you need to collect data using two different methods and then merge the data together. Make sure to use at least two distinct methods for gathering data."
      ]
    },
    {
      "cell_type": "markdown",
      "metadata": {
        "id": "LbN7z7rcuqpO"
      },
      "source": [
        "### **1.1.** Problem Statement\n",
        "In a few sentences, describe the issue you're investigating and the datasets you'll be organizing and using for this project."
      ]
    },
    {
      "cell_type": "markdown",
      "metadata": {
        "id": "gi6swhjSYqu2"
      },
      "source": [
        "*In this project, I will evaluate, clean up, merge, and save two datasets about Movies and TV Shows from Netflix and Amazon Prime. I will use this data to explore and answer some interesting questions.\n"
      ]
    },
    {
      "cell_type": "markdown",
      "metadata": {
        "id": "8AQfBAdUypMm"
      },
      "source": [
        "### 1.2. Gather at Least Two Datasets Using Different Methods\n",
        "\n",
        "Methods for Gathering Data:\n",
        "\n",
        "* Manually download data.\n",
        "* Automate file downloads programmatically.\n",
        "* Use APIs to collect data.\n",
        "* Scrape data from HTML pages using BeautifulSoup.\n",
        "* Pull data from a SQL database.\n",
        "\n",
        "\n",
        "Requirements for Each Dataset:\n",
        "\n",
        "* Each dataset must include at least two variables.\n",
        "* Each dataset must contain more than 500 data samples.\n",
        "\n",
        "Description and Documentation:\n",
        "For each dataset, provide a detailed explanation (2-3 sentences) of why you chose the specific dataset and method. Mention the key variables in the dataset and their importance. Also, include any relevant code snippets (e.g., API usage to retrieve data).\n",
        "\n",
        "Loading the Data:\n",
        "Demonstrate how to load the data into this notebook programmatically."
      ]
    },
    {
      "cell_type": "markdown",
      "metadata": {
        "id": "7e6gS0wL1KTu"
      },
      "source": [
        "#### **Dataset 1**\n",
        "The dataset is about Netflix movies and tv shows.\n",
        "\n",
        "Type: (CSV file)\n",
        "\n",
        "Method: (The data was gatherd using API from kaggle website)\n",
        "\n",
        "Gathering Method:\n",
        "\n",
        "I selected the Kaggle API to collect the dataset because it allows for automated and secure downloads, provides access to a large community of data scientists, and facilitates easier and more reliable data management.\n",
        "Variables in the Dataset:\n",
        "\n",
        "* show_id: Unique identifier for each movie or TV show.\n",
        "* type: Differentiates between movies and TV shows.\n",
        "* title: Name of the movie or TV show.\n",
        "* director: Director of the movie or TV show.\n",
        "* cast: Actors and actresses featured in the movie or TV show.\n",
        "* country: Country where the movie or TV show was produced.\n",
        "* date_added: Date when the movie or TV show was added to Netflix.\n",
        "* release_year: Year the movie or TV show was released.\n",
        "* rating: Rating assigned to the movie or TV show.\n",
        "* duration: Length of the movie or TV show.\n",
        "* listed_in: Genre or category of the movie or TV show.\n",
        "* description: Brief summary of the movie or TV show.\n",
        "\n",
        "Source: https://www.kaggle.com/datasets/shivamb/netflix-shows/data"
      ]
    },
    {
      "cell_type": "code",
      "execution_count": 69,
      "metadata": {
        "id": "VrEwE17md8RO"
      },
      "outputs": [],
      "source": [
        "# # Create a directory for Kaggle API credentials if it doesn't exist\n",
        "# !mkdir -p ~/.kaggle\n",
        "# # Copy the Kaggle API key to the correct location\n",
        "# !cp /content/datasets/kaggle.json ~/.kaggle/kaggle.json\n",
        "# # Secure the API key file by setting appropriate permissions\n",
        "# !chmod 600 ~/.kaggle/kaggle.json\n",
        "\n",
        "# Import necessary libraries for data manipulation and visualization\n",
        "import pandas as pd  # for handling data in tabular form\n",
        "import numpy as np   # for numerical operations\n",
        "import kaggle        # for downloading datasets from Kaggle\n",
        "import os            # for interacting with the file system\n",
        "import matplotlib.pyplot as plt  # for plotting graphs\n"
      ]
    },
    {
      "cell_type": "code",
      "execution_count": 70,
      "metadata": {
        "id": "NEPcroVrd8RP"
      },
      "outputs": [],
      "source": [
        "# Create a directory named 'datasets' if it doesn't already exist\n",
        "folder = \"datasets\"\n",
        "if not os.path.exists(folder):\n",
        "    os.makedirs(folder)\n",
        "\n",
        "# Get the current working directory\n",
        "directory = os.getcwd()\n",
        "\n",
        "# Combine the directory path and the 'datasets' folder into one full path\n",
        "file_location = os.path.join(directory, folder)\n"
      ]
    },
    {
      "cell_type": "code",
      "execution_count": 71,
      "metadata": {
        "colab": {
          "base_uri": "https://localhost:8080/"
        },
        "id": "Su8E0uLuYkHU",
        "outputId": "d6668d37-cb04-44c5-df45-99d78448ca56"
      },
      "outputs": [
        {
          "name": "stdout",
          "output_type": "stream",
          "text": [
            "Dataset URL: https://www.kaggle.com/datasets/shivamb/netflix-shows\n"
          ]
        }
      ],
      "source": [
        "# Sign in to the Kaggle account using API\n",
        "kaggle.api.authenticate()\n",
        "\n",
        "# Set the folder path where the dataset will be saved\n",
        "file_location = \"datasets\"\n",
        "\n",
        "# Get the dataset from Kaggle and unzip it in the specified folder\n",
        "kaggle.api.dataset_download_files(\"shivamb/netflix-shows\", path=file_location, unzip=True)\n",
        "\n",
        "# Load the dataset from a CSV file into a table using pandas\n",
        "netflix_data = pd.read_csv(\"datasets/netflix_titles.csv\")\n"
      ]
    },
    {
      "cell_type": "markdown",
      "metadata": {
        "id": "hoUjq1tPzz7P"
      },
      "source": [
        "#### Dataset 2\n",
        "The dataset is about the movies / tv shows of Amazon Prime\n",
        "\n",
        "Type: (CSV File)\n",
        "\n",
        "Method: Download it manually from kaggle website\n",
        "\n",
        "Reason of choose the  method: Simple and clear\n",
        "\n",
        "Variables in the Dataset:\n",
        "\n",
        "* show_id: Unique identifier for each movie or TV show.\n",
        "* type: Specifies whether it is a movie or a TV show.\n",
        "* title: Name of the movie or TV show.\n",
        "* director: Who directed the movie or TV show.\n",
        "* cast: Actors involved in the movie or TV show.\n",
        "* country: Country where the movie or TV show was produced.\n",
        "* date_added: When the movie or TV show was added to Amazon Prime.\n",
        "* release_year: Year the movie or TV show was released.\n",
        "* rating: Rating given to the movie or TV show.\n",
        "* duration: Length of the movie or TV show in minutes.\n",
        "* listed_in: Genre or category of the movie or TV show.\n",
        "* description: A brief summary of the movie or TV show.\n",
        "\n",
        "Source: https://www.kaggle.com/datasets/shivamb/amazon-prime-movies-and-tv-shows"
      ]
    },
    {
      "cell_type": "code",
      "execution_count": 72,
      "metadata": {
        "id": "6zT0QxRyYmm7"
      },
      "outputs": [],
      "source": [
        "# Load the Amazon Prime movies/TV shows data from a CSV file into a DataFrame\n",
        "amazonPrime_data = pd.read_csv('datasets/amazon_prime_titles.csv')\n"
      ]
    },
    {
      "cell_type": "markdown",
      "metadata": {
        "id": "QwSWIVmotLgV"
      },
      "source": [
        "## 2. Assess data\n",
        "\n",
        "Assess the data according to data quality and tidiness metrics using the report below.\n",
        "\n",
        "List **two** data quality issues and **two** tidiness issues. Assess each data issue visually **and** programmatically, then briefly describe the issue you find.  **Make sure you include justifications for the methods you use for the assessment.**"
      ]
    },
    {
      "cell_type": "markdown",
      "metadata": {
        "id": "adaK2iPNzVu4"
      },
      "source": [
        "### Quality Issue 1: Missing Values in both datasets"
      ]
    },
    {
      "cell_type": "code",
      "execution_count": 73,
      "metadata": {
        "colab": {
          "base_uri": "https://localhost:8080/",
          "height": 206
        },
        "id": "SpW59kh-zl8d",
        "outputId": "febd8f3a-77eb-43fe-bb7d-b80a517c4758"
      },
      "outputs": [
        {
          "data": {
            "text/html": [
              "<div>\n",
              "<style scoped>\n",
              "    .dataframe tbody tr th:only-of-type {\n",
              "        vertical-align: middle;\n",
              "    }\n",
              "\n",
              "    .dataframe tbody tr th {\n",
              "        vertical-align: top;\n",
              "    }\n",
              "\n",
              "    .dataframe thead th {\n",
              "        text-align: right;\n",
              "    }\n",
              "</style>\n",
              "<table border=\"1\" class=\"dataframe\">\n",
              "  <thead>\n",
              "    <tr style=\"text-align: right;\">\n",
              "      <th></th>\n",
              "      <th>show_id</th>\n",
              "      <th>type</th>\n",
              "      <th>title</th>\n",
              "      <th>director</th>\n",
              "      <th>cast</th>\n",
              "      <th>country</th>\n",
              "      <th>date_added</th>\n",
              "      <th>release_year</th>\n",
              "      <th>rating</th>\n",
              "      <th>duration</th>\n",
              "      <th>listed_in</th>\n",
              "      <th>description</th>\n",
              "    </tr>\n",
              "  </thead>\n",
              "  <tbody>\n",
              "    <tr>\n",
              "      <th>0</th>\n",
              "      <td>s1</td>\n",
              "      <td>Movie</td>\n",
              "      <td>Dick Johnson Is Dead</td>\n",
              "      <td>Kirsten Johnson</td>\n",
              "      <td>NaN</td>\n",
              "      <td>United States</td>\n",
              "      <td>September 25, 2021</td>\n",
              "      <td>2020</td>\n",
              "      <td>PG-13</td>\n",
              "      <td>90 min</td>\n",
              "      <td>Documentaries</td>\n",
              "      <td>As her father nears the end of his life, filmm...</td>\n",
              "    </tr>\n",
              "    <tr>\n",
              "      <th>1</th>\n",
              "      <td>s2</td>\n",
              "      <td>TV Show</td>\n",
              "      <td>Blood &amp; Water</td>\n",
              "      <td>NaN</td>\n",
              "      <td>Ama Qamata, Khosi Ngema, Gail Mabalane, Thaban...</td>\n",
              "      <td>South Africa</td>\n",
              "      <td>September 24, 2021</td>\n",
              "      <td>2021</td>\n",
              "      <td>TV-MA</td>\n",
              "      <td>2 Seasons</td>\n",
              "      <td>International TV Shows, TV Dramas, TV Mysteries</td>\n",
              "      <td>After crossing paths at a party, a Cape Town t...</td>\n",
              "    </tr>\n",
              "    <tr>\n",
              "      <th>2</th>\n",
              "      <td>s3</td>\n",
              "      <td>TV Show</td>\n",
              "      <td>Ganglands</td>\n",
              "      <td>Julien Leclercq</td>\n",
              "      <td>Sami Bouajila, Tracy Gotoas, Samuel Jouy, Nabi...</td>\n",
              "      <td>NaN</td>\n",
              "      <td>September 24, 2021</td>\n",
              "      <td>2021</td>\n",
              "      <td>TV-MA</td>\n",
              "      <td>1 Season</td>\n",
              "      <td>Crime TV Shows, International TV Shows, TV Act...</td>\n",
              "      <td>To protect his family from a powerful drug lor...</td>\n",
              "    </tr>\n",
              "    <tr>\n",
              "      <th>3</th>\n",
              "      <td>s4</td>\n",
              "      <td>TV Show</td>\n",
              "      <td>Jailbirds New Orleans</td>\n",
              "      <td>NaN</td>\n",
              "      <td>NaN</td>\n",
              "      <td>NaN</td>\n",
              "      <td>September 24, 2021</td>\n",
              "      <td>2021</td>\n",
              "      <td>TV-MA</td>\n",
              "      <td>1 Season</td>\n",
              "      <td>Docuseries, Reality TV</td>\n",
              "      <td>Feuds, flirtations and toilet talk go down amo...</td>\n",
              "    </tr>\n",
              "    <tr>\n",
              "      <th>4</th>\n",
              "      <td>s5</td>\n",
              "      <td>TV Show</td>\n",
              "      <td>Kota Factory</td>\n",
              "      <td>NaN</td>\n",
              "      <td>Mayur More, Jitendra Kumar, Ranjan Raj, Alam K...</td>\n",
              "      <td>India</td>\n",
              "      <td>September 24, 2021</td>\n",
              "      <td>2021</td>\n",
              "      <td>TV-MA</td>\n",
              "      <td>2 Seasons</td>\n",
              "      <td>International TV Shows, Romantic TV Shows, TV ...</td>\n",
              "      <td>In a city of coaching centers known to train I...</td>\n",
              "    </tr>\n",
              "  </tbody>\n",
              "</table>\n",
              "</div>"
            ],
            "text/plain": [
              "  show_id     type                  title         director  \\\n",
              "0      s1    Movie   Dick Johnson Is Dead  Kirsten Johnson   \n",
              "1      s2  TV Show          Blood & Water              NaN   \n",
              "2      s3  TV Show              Ganglands  Julien Leclercq   \n",
              "3      s4  TV Show  Jailbirds New Orleans              NaN   \n",
              "4      s5  TV Show           Kota Factory              NaN   \n",
              "\n",
              "                                                cast        country  \\\n",
              "0                                                NaN  United States   \n",
              "1  Ama Qamata, Khosi Ngema, Gail Mabalane, Thaban...   South Africa   \n",
              "2  Sami Bouajila, Tracy Gotoas, Samuel Jouy, Nabi...            NaN   \n",
              "3                                                NaN            NaN   \n",
              "4  Mayur More, Jitendra Kumar, Ranjan Raj, Alam K...          India   \n",
              "\n",
              "           date_added  release_year rating   duration  \\\n",
              "0  September 25, 2021          2020  PG-13     90 min   \n",
              "1  September 24, 2021          2021  TV-MA  2 Seasons   \n",
              "2  September 24, 2021          2021  TV-MA   1 Season   \n",
              "3  September 24, 2021          2021  TV-MA   1 Season   \n",
              "4  September 24, 2021          2021  TV-MA  2 Seasons   \n",
              "\n",
              "                                           listed_in  \\\n",
              "0                                      Documentaries   \n",
              "1    International TV Shows, TV Dramas, TV Mysteries   \n",
              "2  Crime TV Shows, International TV Shows, TV Act...   \n",
              "3                             Docuseries, Reality TV   \n",
              "4  International TV Shows, Romantic TV Shows, TV ...   \n",
              "\n",
              "                                         description  \n",
              "0  As her father nears the end of his life, filmm...  \n",
              "1  After crossing paths at a party, a Cape Town t...  \n",
              "2  To protect his family from a powerful drug lor...  \n",
              "3  Feuds, flirtations and toilet talk go down amo...  \n",
              "4  In a city of coaching centers known to train I...  "
            ]
          },
          "execution_count": 73,
          "metadata": {},
          "output_type": "execute_result"
        }
      ],
      "source": [
        "# Display the first 5 rows of the Netflix dataset to visually inspect the data\n",
        "netflix_data.head()\n"
      ]
    },
    {
      "cell_type": "code",
      "execution_count": 74,
      "metadata": {
        "colab": {
          "base_uri": "https://localhost:8080/",
          "height": 310
        },
        "id": "vQX5-Paed8RR",
        "outputId": "e458a8d2-1a5d-4f18-fe4c-f58d761bf295"
      },
      "outputs": [
        {
          "data": {
            "text/html": [
              "<div>\n",
              "<style scoped>\n",
              "    .dataframe tbody tr th:only-of-type {\n",
              "        vertical-align: middle;\n",
              "    }\n",
              "\n",
              "    .dataframe tbody tr th {\n",
              "        vertical-align: top;\n",
              "    }\n",
              "\n",
              "    .dataframe thead th {\n",
              "        text-align: right;\n",
              "    }\n",
              "</style>\n",
              "<table border=\"1\" class=\"dataframe\">\n",
              "  <thead>\n",
              "    <tr style=\"text-align: right;\">\n",
              "      <th></th>\n",
              "      <th>show_id</th>\n",
              "      <th>type</th>\n",
              "      <th>title</th>\n",
              "      <th>director</th>\n",
              "      <th>cast</th>\n",
              "      <th>country</th>\n",
              "      <th>date_added</th>\n",
              "      <th>release_year</th>\n",
              "      <th>rating</th>\n",
              "      <th>duration</th>\n",
              "      <th>listed_in</th>\n",
              "      <th>description</th>\n",
              "    </tr>\n",
              "  </thead>\n",
              "  <tbody>\n",
              "    <tr>\n",
              "      <th>0</th>\n",
              "      <td>s1</td>\n",
              "      <td>Movie</td>\n",
              "      <td>The Grand Seduction</td>\n",
              "      <td>Don McKellar</td>\n",
              "      <td>Brendan Gleeson, Taylor Kitsch, Gordon Pinsent</td>\n",
              "      <td>Canada</td>\n",
              "      <td>March 30, 2021</td>\n",
              "      <td>2014</td>\n",
              "      <td>NaN</td>\n",
              "      <td>113 min</td>\n",
              "      <td>Comedy, Drama</td>\n",
              "      <td>A small fishing village must procure a local d...</td>\n",
              "    </tr>\n",
              "    <tr>\n",
              "      <th>1</th>\n",
              "      <td>s2</td>\n",
              "      <td>Movie</td>\n",
              "      <td>Take Care Good Night</td>\n",
              "      <td>Girish Joshi</td>\n",
              "      <td>Mahesh Manjrekar, Abhay Mahajan, Sachin Khedekar</td>\n",
              "      <td>India</td>\n",
              "      <td>March 30, 2021</td>\n",
              "      <td>2018</td>\n",
              "      <td>13+</td>\n",
              "      <td>110 min</td>\n",
              "      <td>Drama, International</td>\n",
              "      <td>A Metro Family decides to fight a Cyber Crimin...</td>\n",
              "    </tr>\n",
              "    <tr>\n",
              "      <th>2</th>\n",
              "      <td>s3</td>\n",
              "      <td>Movie</td>\n",
              "      <td>Secrets of Deception</td>\n",
              "      <td>Josh Webber</td>\n",
              "      <td>Tom Sizemore, Lorenzo Lamas, Robert LaSardo, R...</td>\n",
              "      <td>United States</td>\n",
              "      <td>March 30, 2021</td>\n",
              "      <td>2017</td>\n",
              "      <td>NaN</td>\n",
              "      <td>74 min</td>\n",
              "      <td>Action, Drama, Suspense</td>\n",
              "      <td>After a man discovers his wife is cheating on ...</td>\n",
              "    </tr>\n",
              "    <tr>\n",
              "      <th>3</th>\n",
              "      <td>s4</td>\n",
              "      <td>Movie</td>\n",
              "      <td>Pink: Staying True</td>\n",
              "      <td>Sonia Anderson</td>\n",
              "      <td>Interviews with: Pink, Adele, Beyoncé, Britney...</td>\n",
              "      <td>United States</td>\n",
              "      <td>March 30, 2021</td>\n",
              "      <td>2014</td>\n",
              "      <td>NaN</td>\n",
              "      <td>69 min</td>\n",
              "      <td>Documentary</td>\n",
              "      <td>Pink breaks the mold once again, bringing her ...</td>\n",
              "    </tr>\n",
              "    <tr>\n",
              "      <th>4</th>\n",
              "      <td>s5</td>\n",
              "      <td>Movie</td>\n",
              "      <td>Monster Maker</td>\n",
              "      <td>Giles Foster</td>\n",
              "      <td>Harry Dean Stanton, Kieran O'Brien, George Cos...</td>\n",
              "      <td>United Kingdom</td>\n",
              "      <td>March 30, 2021</td>\n",
              "      <td>1989</td>\n",
              "      <td>NaN</td>\n",
              "      <td>45 min</td>\n",
              "      <td>Drama, Fantasy</td>\n",
              "      <td>Teenage Matt Banting wants to work with a famo...</td>\n",
              "    </tr>\n",
              "  </tbody>\n",
              "</table>\n",
              "</div>"
            ],
            "text/plain": [
              "  show_id   type                 title        director  \\\n",
              "0      s1  Movie   The Grand Seduction    Don McKellar   \n",
              "1      s2  Movie  Take Care Good Night    Girish Joshi   \n",
              "2      s3  Movie  Secrets of Deception     Josh Webber   \n",
              "3      s4  Movie    Pink: Staying True  Sonia Anderson   \n",
              "4      s5  Movie         Monster Maker    Giles Foster   \n",
              "\n",
              "                                                cast         country  \\\n",
              "0     Brendan Gleeson, Taylor Kitsch, Gordon Pinsent          Canada   \n",
              "1   Mahesh Manjrekar, Abhay Mahajan, Sachin Khedekar           India   \n",
              "2  Tom Sizemore, Lorenzo Lamas, Robert LaSardo, R...   United States   \n",
              "3  Interviews with: Pink, Adele, Beyoncé, Britney...   United States   \n",
              "4  Harry Dean Stanton, Kieran O'Brien, George Cos...  United Kingdom   \n",
              "\n",
              "       date_added  release_year rating duration                listed_in  \\\n",
              "0  March 30, 2021          2014    NaN  113 min            Comedy, Drama   \n",
              "1  March 30, 2021          2018    13+  110 min     Drama, International   \n",
              "2  March 30, 2021          2017    NaN   74 min  Action, Drama, Suspense   \n",
              "3  March 30, 2021          2014    NaN   69 min              Documentary   \n",
              "4  March 30, 2021          1989    NaN   45 min           Drama, Fantasy   \n",
              "\n",
              "                                         description  \n",
              "0  A small fishing village must procure a local d...  \n",
              "1  A Metro Family decides to fight a Cyber Crimin...  \n",
              "2  After a man discovers his wife is cheating on ...  \n",
              "3  Pink breaks the mold once again, bringing her ...  \n",
              "4  Teenage Matt Banting wants to work with a famo...  "
            ]
          },
          "execution_count": 74,
          "metadata": {},
          "output_type": "execute_result"
        }
      ],
      "source": [
        "# Show the first 5 rows of the Amazon Prime dataset for a visual inspection\n",
        "amazonPrime_data.head()\n"
      ]
    },
    {
      "cell_type": "code",
      "execution_count": 75,
      "metadata": {
        "colab": {
          "base_uri": "https://localhost:8080/"
        },
        "id": "-qfcocStzsKg",
        "outputId": "03d47984-9752-441e-f433-7013af1e77cb"
      },
      "outputs": [
        {
          "name": "stdout",
          "output_type": "stream",
          "text": [
            "<class 'pandas.core.frame.DataFrame'>\n",
            "RangeIndex: 8807 entries, 0 to 8806\n",
            "Data columns (total 12 columns):\n",
            " #   Column        Non-Null Count  Dtype \n",
            "---  ------        --------------  ----- \n",
            " 0   show_id       8807 non-null   object\n",
            " 1   type          8807 non-null   object\n",
            " 2   title         8807 non-null   object\n",
            " 3   director      6173 non-null   object\n",
            " 4   cast          7982 non-null   object\n",
            " 5   country       7976 non-null   object\n",
            " 6   date_added    8797 non-null   object\n",
            " 7   release_year  8807 non-null   int64 \n",
            " 8   rating        8803 non-null   object\n",
            " 9   duration      8804 non-null   object\n",
            " 10  listed_in     8807 non-null   object\n",
            " 11  description   8807 non-null   object\n",
            "dtypes: int64(1), object(11)\n",
            "memory usage: 825.8+ KB\n"
          ]
        }
      ],
      "source": [
        "# Get detailed information about the Netflix dataset, including data types and non-null counts\n",
        "netflix_data.info()\n"
      ]
    },
    {
      "cell_type": "code",
      "execution_count": 76,
      "metadata": {
        "colab": {
          "base_uri": "https://localhost:8080/"
        },
        "id": "qmQVmy2jd8RS",
        "outputId": "423564d5-4321-477b-a6a7-b0b0661a5048",
        "scrolled": true
      },
      "outputs": [
        {
          "name": "stdout",
          "output_type": "stream",
          "text": [
            "<class 'pandas.core.frame.DataFrame'>\n",
            "RangeIndex: 9668 entries, 0 to 9667\n",
            "Data columns (total 12 columns):\n",
            " #   Column        Non-Null Count  Dtype \n",
            "---  ------        --------------  ----- \n",
            " 0   show_id       9668 non-null   object\n",
            " 1   type          9668 non-null   object\n",
            " 2   title         9668 non-null   object\n",
            " 3   director      7585 non-null   object\n",
            " 4   cast          8435 non-null   object\n",
            " 5   country       672 non-null    object\n",
            " 6   date_added    155 non-null    object\n",
            " 7   release_year  9668 non-null   int64 \n",
            " 8   rating        9331 non-null   object\n",
            " 9   duration      9668 non-null   object\n",
            " 10  listed_in     9668 non-null   object\n",
            " 11  description   9668 non-null   object\n",
            "dtypes: int64(1), object(11)\n",
            "memory usage: 906.5+ KB\n"
          ]
        }
      ],
      "source": [
        "# Retrieve detailed info about the Amazon Prime dataset, such as data types and missing values\n",
        "amazonPrime_data.info()\n"
      ]
    },
    {
      "cell_type": "markdown",
      "metadata": {
        "id": "XCKHT_mud8RS"
      },
      "source": [
        "Issue and justification: The first quality issue is both datasets contains missing values**\n",
        "\n",
        "**The Netflix dataset's columns:** *director, cast, country, date_added, rating and duration* have missing values as shown above.\n",
        "\n",
        "**The Amazon Prime dataset's columns:** *director, cast, country, date_added and rating* have missing values as shown above.\n",
        "\n",
        "I will leave director's missing values as it is because the high count of missing values and the importance of the column.\n",
        "\n",
        "The columns \"cast\" and \"country\" in both datasets will be dropped because of thier useless.\n",
        "\n",
        "The column \"date_added\" will be even dropped after correcting it's data type in both datasets.\n",
        "\n",
        "The column \"rating\" is going to be dropped it's mssing values in both datasets.\n",
        "\n",
        "The column \"duration\" in Netflix dataset have some missing values and it is going to be dropped."
      ]
    },
    {
      "cell_type": "markdown",
      "metadata": {
        "id": "8Be77N4I1AmE"
      },
      "source": [
        "### Quality Issue 2: Wrong data type in 'type'"
      ]
    },
    {
      "cell_type": "code",
      "execution_count": 77,
      "metadata": {
        "colab": {
          "base_uri": "https://localhost:8080/"
        },
        "id": "ouUB1REnd8RT",
        "outputId": "45a2a8d7-2f90-4da0-dc50-649d6f3efc71"
      },
      "outputs": [
        {
          "data": {
            "text/plain": [
              "0      Movie\n",
              "1    TV Show\n",
              "2    TV Show\n",
              "3    TV Show\n",
              "4    TV Show\n",
              "Name: type, dtype: object"
            ]
          },
          "execution_count": 77,
          "metadata": {},
          "output_type": "execute_result"
        }
      ],
      "source": [
        "# Display the first 5 entries of the 'type' column from the Netflix dataset for a quick visual check\n",
        "netflix_data['type'].head()\n"
      ]
    },
    {
      "cell_type": "code",
      "execution_count": 78,
      "metadata": {
        "colab": {
          "base_uri": "https://localhost:8080/",
          "height": 478
        },
        "id": "_beCm30Yd8RT",
        "outputId": "8ee1cdcb-d683-4f87-99c7-e1492c122074"
      },
      "outputs": [
        {
          "data": {
            "text/plain": [
              "0       Movie\n",
              "1       Movie\n",
              "2       Movie\n",
              "3       Movie\n",
              "4       Movie\n",
              "5       Movie\n",
              "6       Movie\n",
              "7       Movie\n",
              "8       Movie\n",
              "9       Movie\n",
              "10      Movie\n",
              "11      Movie\n",
              "12      Movie\n",
              "13      Movie\n",
              "14      Movie\n",
              "15      Movie\n",
              "16      Movie\n",
              "17    TV Show\n",
              "18    TV Show\n",
              "19      Movie\n",
              "Name: type, dtype: object"
            ]
          },
          "execution_count": 78,
          "metadata": {},
          "output_type": "execute_result"
        }
      ],
      "source": [
        "# Show the first 20 entries in the 'type' column of the Amazon Prime dataset for visual inspection\n",
        "amazonPrime_data['type'].head(20)\n"
      ]
    },
    {
      "cell_type": "code",
      "execution_count": 79,
      "metadata": {
        "id": "k1Z8qphyd8RU"
      },
      "outputs": [
        {
          "data": {
            "text/plain": [
              "type\n",
              "Movie      6131\n",
              "TV Show    2676\n",
              "Name: count, dtype: int64"
            ]
          },
          "execution_count": 79,
          "metadata": {},
          "output_type": "execute_result"
        }
      ],
      "source": [
        "# Check the distribution of values in the 'type' column of the Netflix dataset.\n",
        "# This helps confirm there are only two types: 'movie' and 'tv show'.\n",
        "# The column's data type should be converted from object to category for optimization.\n",
        "netflix_data['type'].value_counts()\n"
      ]
    },
    {
      "cell_type": "code",
      "execution_count": 80,
      "metadata": {
        "id": "-_Ua3CSFd8RU"
      },
      "outputs": [
        {
          "data": {
            "text/plain": [
              "array(['Movie', 'TV Show'], dtype=object)"
            ]
          },
          "execution_count": 80,
          "metadata": {},
          "output_type": "execute_result"
        }
      ],
      "source": [
        "# Display the unique categories within the 'type' column of the Netflix dataset\n",
        "netflix_data['type'].unique()\n"
      ]
    },
    {
      "cell_type": "code",
      "execution_count": 81,
      "metadata": {
        "id": "zR5dLm3Yd8RV"
      },
      "outputs": [
        {
          "data": {
            "text/plain": [
              "type\n",
              "Movie      7814\n",
              "TV Show    1854\n",
              "Name: count, dtype: int64"
            ]
          },
          "execution_count": 81,
          "metadata": {},
          "output_type": "execute_result"
        }
      ],
      "source": [
        "# Count the occurrences of each unique category in the 'type' column of the Amazon Prime dataset\n",
        "amazonPrime_data['type'].value_counts()\n"
      ]
    },
    {
      "cell_type": "code",
      "execution_count": 82,
      "metadata": {
        "id": "JmP1jV2vd8RV"
      },
      "outputs": [
        {
          "data": {
            "text/plain": [
              "array(['Movie', 'TV Show'], dtype=object)"
            ]
          },
          "execution_count": 82,
          "metadata": {},
          "output_type": "execute_result"
        }
      ],
      "source": [
        "# List unique values in the 'type' column of the Amazon Prime dataset to verify data consistency\n",
        "amazonPrime_data['type'].unique()\n"
      ]
    },
    {
      "cell_type": "markdown",
      "metadata": {
        "id": "-8mDr-n3d8RW"
      },
      "source": [
        "**Quality Issue and Justification:**\n",
        "\n",
        "* **Issue:** The 'type' column in both datasets is not using the optimal data type.\n",
        "Explanation: This column only contains two\n",
        "* **values:** 'Movie' and 'TV Show'. Converting it to a 'category' data type will make the dataset more efficient for processing and analysis, as 'category' types use less memory and are better for columns with a small number of unique values."
      ]
    },
    {
      "cell_type": "markdown",
      "metadata": {
        "id": "__MXQrthd8Ra"
      },
      "source": [
        "### Quality Issue 3: Wrong data type in 'date_added'"
      ]
    },
    {
      "cell_type": "code",
      "execution_count": 83,
      "metadata": {
        "id": "39JHHY8od8Ra"
      },
      "outputs": [
        {
          "data": {
            "text/plain": [
              "0    September 25, 2021\n",
              "1    September 24, 2021\n",
              "2    September 24, 2021\n",
              "3    September 24, 2021\n",
              "4    September 24, 2021\n",
              "Name: date_added, dtype: object"
            ]
          },
          "execution_count": 83,
          "metadata": {},
          "output_type": "execute_result"
        }
      ],
      "source": [
        "# Display the first 5 entries of the 'date_added' column from the Netflix dataset to check the data format\n",
        "# This helps verify that the data, while stored as strings (object type), should be in a date format\n",
        "netflix_data['date_added'].head()\n"
      ]
    },
    {
      "cell_type": "code",
      "execution_count": 84,
      "metadata": {
        "id": "qXlpar2md8Ra"
      },
      "outputs": [
        {
          "data": {
            "text/plain": [
              "0    March 30, 2021\n",
              "1    March 30, 2021\n",
              "2    March 30, 2021\n",
              "3    March 30, 2021\n",
              "4    March 30, 2021\n",
              "Name: date_added, dtype: object"
            ]
          },
          "execution_count": 84,
          "metadata": {},
          "output_type": "execute_result"
        }
      ],
      "source": [
        "# Show the first 5 entries in the 'date_added' column of the Amazon Prime dataset to examine the format\n",
        "# This check is necessary to confirm that the data format, currently stored as strings, needs to be in date format\n",
        "amazonPrime_data['date_added'].head()\n"
      ]
    },
    {
      "cell_type": "code",
      "execution_count": 85,
      "metadata": {
        "id": "704OmO6Nd8Rb"
      },
      "outputs": [
        {
          "data": {
            "text/plain": [
              "dtype('O')"
            ]
          },
          "execution_count": 85,
          "metadata": {},
          "output_type": "execute_result"
        }
      ],
      "source": [
        "# Retrieve information about the 'date_added' column in the Netflix dataset to confirm its data type\n",
        "netflix_data['date_added'].dtype\n"
      ]
    },
    {
      "cell_type": "code",
      "execution_count": 86,
      "metadata": {
        "id": "-Mtm2xOAd8Rb"
      },
      "outputs": [
        {
          "data": {
            "text/plain": [
              "dtype('O')"
            ]
          },
          "execution_count": 86,
          "metadata": {},
          "output_type": "execute_result"
        }
      ],
      "source": [
        "# Get the data type of the 'date_added' column in the Amazon Prime dataset to verify its format\n",
        "amazonPrime_data['date_added'].dtype\n"
      ]
    },
    {
      "cell_type": "markdown",
      "metadata": {
        "id": "TkpXuHjDd8Rb"
      },
      "source": [
        "**Issue and Justification:**\n",
        "\n",
        "**Issue:** The 'date_added' column in both datasets has an incorrect data type.\n",
        "\n",
        "**Explanation:** This column contains date information but is currently stored as an 'object' (string), which should be converted to 'datetime'. Using the 'datetime' data type is essential for efficient date manipulation and analysis."
      ]
    },
    {
      "cell_type": "markdown",
      "metadata": {
        "id": "lXhGiYyiwwKN"
      },
      "source": [
        "### Tidiness Issue 1: Multiple variables stored in 'duration'"
      ]
    },
    {
      "cell_type": "code",
      "execution_count": 87,
      "metadata": {
        "id": "BTuQw7Rbsio4"
      },
      "outputs": [
        {
          "data": {
            "text/plain": [
              "0       90 min\n",
              "1    2 Seasons\n",
              "2     1 Season\n",
              "3     1 Season\n",
              "4    2 Seasons\n",
              "Name: duration, dtype: object"
            ]
          },
          "execution_count": 87,
          "metadata": {},
          "output_type": "execute_result"
        }
      ],
      "source": [
        "# Display the first 5 entries of the 'duration' column from the Netflix dataset to visually inspect the format\n",
        "netflix_data['duration'].head()\n"
      ]
    },
    {
      "cell_type": "code",
      "execution_count": 88,
      "metadata": {
        "id": "VpkAgncCd8Rc"
      },
      "outputs": [
        {
          "data": {
            "text/plain": [
              "0      113 min\n",
              "1      110 min\n",
              "2       74 min\n",
              "3       69 min\n",
              "4       45 min\n",
              "5       52 min\n",
              "6       98 min\n",
              "7      131 min\n",
              "8       87 min\n",
              "9       92 min\n",
              "10      88 min\n",
              "11      93 min\n",
              "12      94 min\n",
              "13      46 min\n",
              "14      74 min\n",
              "15      96 min\n",
              "16      87 min\n",
              "17    1 Season\n",
              "18    1 Season\n",
              "19     104 min\n",
              "Name: duration, dtype: object"
            ]
          },
          "execution_count": 88,
          "metadata": {},
          "output_type": "execute_result"
        }
      ],
      "source": [
        "# Show the first 20 entries in the 'duration' column of the Amazon Prime dataset for a visual check\n",
        "amazonPrime_data['duration'].head(20)\n"
      ]
    },
    {
      "cell_type": "code",
      "execution_count": 89,
      "metadata": {
        "id": "fleC5rORI0Xl"
      },
      "outputs": [
        {
          "data": {
            "text/plain": [
              "duration\n",
              "1 Season     1793\n",
              "2 Seasons     425\n",
              "3 Seasons     199\n",
              "90 min        152\n",
              "94 min        146\n",
              "             ... \n",
              "16 min          1\n",
              "186 min         1\n",
              "193 min         1\n",
              "189 min         1\n",
              "191 min         1\n",
              "Name: count, Length: 220, dtype: int64"
            ]
          },
          "execution_count": 89,
          "metadata": {},
          "output_type": "execute_result"
        }
      ],
      "source": [
        "# Analyze the distribution of values in the 'duration' column of the Netflix dataset\n",
        "# This will help determine if the values are mixed improperly and should be separated into different columns\n",
        "netflix_data['duration'].value_counts()\n"
      ]
    },
    {
      "cell_type": "code",
      "execution_count": 90,
      "metadata": {
        "id": "EqdMfK0ed8Rd"
      },
      "outputs": [
        {
          "data": {
            "text/plain": [
              "duration\n",
              "1 Season      1342\n",
              "2 Seasons      229\n",
              "90 min         223\n",
              "91 min         220\n",
              "92 min         203\n",
              "              ... \n",
              "21 Seasons       1\n",
              "485 min          1\n",
              "550 min          1\n",
              "181 min          1\n",
              "191 min          1\n",
              "Name: count, Length: 219, dtype: int64"
            ]
          },
          "execution_count": 90,
          "metadata": {},
          "output_type": "execute_result"
        }
      ],
      "source": [
        "# Count and display how often each unique value appears in the 'duration' column of the Amazon Prime dataset\n",
        "# This assessment helps identify if the column combines multiple data types that should be separated\n",
        "amazonPrime_data['duration'].value_counts()\n"
      ]
    },
    {
      "cell_type": "markdown",
      "metadata": {
        "id": "tQiGWebvd8Rd"
      },
      "source": [
        "**Issue and Justification:**\n",
        "\n",
        "**Issue:** The 'duration' column in both datasets includes two types of data: minutes for movies and seasons for TV shows.\n",
        "\n",
        "**Explanation:** This mixture of data types in a single column can lead to confusion and inaccuracies in data analysis. It would be more effective to separate these into two distinct columns: 'movie_duration' for the length of movies in minutes, and 'show_seasons' for the number of seasons in TV shows. This separation enhances clarity and facilitates more specific analyses."
      ]
    },
    {
      "cell_type": "markdown",
      "metadata": {
        "id": "D6gmLnBttpCh"
      },
      "source": [
        "## 3. Clean data\n",
        "Clean the data to fix the 4 issues related to data quality and organization found earlier. Explain why you make each cleaning decision.\n",
        "\n",
        "After cleaning each issue, check if the cleaning was successful using either a visual or programmatic method.\n",
        "\n",
        "At this stage, also remove any unnecessary variables and combine your datasets. You can combine and remove variables before or after cleaning. Make sure your final dataset has at least 4 variables."
      ]
    },
    {
      "cell_type": "code",
      "execution_count": 91,
      "metadata": {
        "id": "zawFHeGKd8Rj"
      },
      "outputs": [],
      "source": [
        "# Create copies of the datasets to ensure the original data remains unchanged\n",
        "cleaned_netflix_data = netflix_data.copy()\n",
        "cleaned_amazonPrime_data = amazonPrime_data.copy()\n"
      ]
    },
    {
      "cell_type": "markdown",
      "metadata": {
        "id": "FmFhN52Yyn3l"
      },
      "source": [
        "### **Quality Issue 1: Missing Values in both datasets**"
      ]
    },
    {
      "cell_type": "code",
      "execution_count": 92,
      "metadata": {
        "id": "9UejDWrNMW4a"
      },
      "outputs": [],
      "source": [
        "# Remove the 'cast' and 'country' columns from the cleaned Netflix dataset\n",
        "cleaned_netflix_data.drop(['cast', 'country'], axis=1, inplace=True)\n",
        "\n",
        "# Remove rows with missing values in the 'rating' column\n",
        "cleaned_netflix_data = cleaned_netflix_data.dropna(subset=['rating'])\n",
        "\n",
        "# Remove rows with missing values in the 'duration' column\n",
        "cleaned_netflix_data = cleaned_netflix_data.dropna(subset=['duration'])\n"
      ]
    },
    {
      "cell_type": "code",
      "execution_count": 93,
      "metadata": {
        "id": "oUBee-LPytkv"
      },
      "outputs": [
        {
          "data": {
            "text/html": [
              "<div>\n",
              "<style scoped>\n",
              "    .dataframe tbody tr th:only-of-type {\n",
              "        vertical-align: middle;\n",
              "    }\n",
              "\n",
              "    .dataframe tbody tr th {\n",
              "        vertical-align: top;\n",
              "    }\n",
              "\n",
              "    .dataframe thead th {\n",
              "        text-align: right;\n",
              "    }\n",
              "</style>\n",
              "<table border=\"1\" class=\"dataframe\">\n",
              "  <thead>\n",
              "    <tr style=\"text-align: right;\">\n",
              "      <th></th>\n",
              "      <th>show_id</th>\n",
              "      <th>type</th>\n",
              "      <th>title</th>\n",
              "      <th>director</th>\n",
              "      <th>date_added</th>\n",
              "      <th>release_year</th>\n",
              "      <th>rating</th>\n",
              "      <th>duration</th>\n",
              "      <th>listed_in</th>\n",
              "      <th>description</th>\n",
              "    </tr>\n",
              "  </thead>\n",
              "  <tbody>\n",
              "    <tr>\n",
              "      <th>0</th>\n",
              "      <td>s1</td>\n",
              "      <td>Movie</td>\n",
              "      <td>Dick Johnson Is Dead</td>\n",
              "      <td>Kirsten Johnson</td>\n",
              "      <td>September 25, 2021</td>\n",
              "      <td>2020</td>\n",
              "      <td>PG-13</td>\n",
              "      <td>90 min</td>\n",
              "      <td>Documentaries</td>\n",
              "      <td>As her father nears the end of his life, filmm...</td>\n",
              "    </tr>\n",
              "    <tr>\n",
              "      <th>1</th>\n",
              "      <td>s2</td>\n",
              "      <td>TV Show</td>\n",
              "      <td>Blood &amp; Water</td>\n",
              "      <td>NaN</td>\n",
              "      <td>September 24, 2021</td>\n",
              "      <td>2021</td>\n",
              "      <td>TV-MA</td>\n",
              "      <td>2 Seasons</td>\n",
              "      <td>International TV Shows, TV Dramas, TV Mysteries</td>\n",
              "      <td>After crossing paths at a party, a Cape Town t...</td>\n",
              "    </tr>\n",
              "    <tr>\n",
              "      <th>2</th>\n",
              "      <td>s3</td>\n",
              "      <td>TV Show</td>\n",
              "      <td>Ganglands</td>\n",
              "      <td>Julien Leclercq</td>\n",
              "      <td>September 24, 2021</td>\n",
              "      <td>2021</td>\n",
              "      <td>TV-MA</td>\n",
              "      <td>1 Season</td>\n",
              "      <td>Crime TV Shows, International TV Shows, TV Act...</td>\n",
              "      <td>To protect his family from a powerful drug lor...</td>\n",
              "    </tr>\n",
              "    <tr>\n",
              "      <th>3</th>\n",
              "      <td>s4</td>\n",
              "      <td>TV Show</td>\n",
              "      <td>Jailbirds New Orleans</td>\n",
              "      <td>NaN</td>\n",
              "      <td>September 24, 2021</td>\n",
              "      <td>2021</td>\n",
              "      <td>TV-MA</td>\n",
              "      <td>1 Season</td>\n",
              "      <td>Docuseries, Reality TV</td>\n",
              "      <td>Feuds, flirtations and toilet talk go down amo...</td>\n",
              "    </tr>\n",
              "    <tr>\n",
              "      <th>4</th>\n",
              "      <td>s5</td>\n",
              "      <td>TV Show</td>\n",
              "      <td>Kota Factory</td>\n",
              "      <td>NaN</td>\n",
              "      <td>September 24, 2021</td>\n",
              "      <td>2021</td>\n",
              "      <td>TV-MA</td>\n",
              "      <td>2 Seasons</td>\n",
              "      <td>International TV Shows, Romantic TV Shows, TV ...</td>\n",
              "      <td>In a city of coaching centers known to train I...</td>\n",
              "    </tr>\n",
              "  </tbody>\n",
              "</table>\n",
              "</div>"
            ],
            "text/plain": [
              "  show_id     type                  title         director  \\\n",
              "0      s1    Movie   Dick Johnson Is Dead  Kirsten Johnson   \n",
              "1      s2  TV Show          Blood & Water              NaN   \n",
              "2      s3  TV Show              Ganglands  Julien Leclercq   \n",
              "3      s4  TV Show  Jailbirds New Orleans              NaN   \n",
              "4      s5  TV Show           Kota Factory              NaN   \n",
              "\n",
              "           date_added  release_year rating   duration  \\\n",
              "0  September 25, 2021          2020  PG-13     90 min   \n",
              "1  September 24, 2021          2021  TV-MA  2 Seasons   \n",
              "2  September 24, 2021          2021  TV-MA   1 Season   \n",
              "3  September 24, 2021          2021  TV-MA   1 Season   \n",
              "4  September 24, 2021          2021  TV-MA  2 Seasons   \n",
              "\n",
              "                                           listed_in  \\\n",
              "0                                      Documentaries   \n",
              "1    International TV Shows, TV Dramas, TV Mysteries   \n",
              "2  Crime TV Shows, International TV Shows, TV Act...   \n",
              "3                             Docuseries, Reality TV   \n",
              "4  International TV Shows, Romantic TV Shows, TV ...   \n",
              "\n",
              "                                         description  \n",
              "0  As her father nears the end of his life, filmm...  \n",
              "1  After crossing paths at a party, a Cape Town t...  \n",
              "2  To protect his family from a powerful drug lor...  \n",
              "3  Feuds, flirtations and toilet talk go down amo...  \n",
              "4  In a city of coaching centers known to train I...  "
            ]
          },
          "execution_count": 93,
          "metadata": {},
          "output_type": "execute_result"
        }
      ],
      "source": [
        "# Validate that the 'cast' and 'country' columns were successfully dropped by displaying the first few rows\n",
        "cleaned_netflix_data.head()\n"
      ]
    },
    {
      "cell_type": "code",
      "execution_count": 94,
      "metadata": {
        "id": "ZXzEGxFcd8Rl"
      },
      "outputs": [
        {
          "name": "stdout",
          "output_type": "stream",
          "text": [
            "rating missing values:\n"
          ]
        },
        {
          "data": {
            "text/plain": [
              "0"
            ]
          },
          "execution_count": 94,
          "metadata": {},
          "output_type": "execute_result"
        }
      ],
      "source": [
        "# Validate that there are no missing values in the 'rating' column\n",
        "print('rating missing values:')\n",
        "sum(cleaned_netflix_data['rating'].isnull())\n"
      ]
    },
    {
      "cell_type": "code",
      "execution_count": 95,
      "metadata": {
        "id": "S7eiNevld8Rl"
      },
      "outputs": [
        {
          "name": "stdout",
          "output_type": "stream",
          "text": [
            "duration missing values:\n"
          ]
        },
        {
          "data": {
            "text/plain": [
              "0"
            ]
          },
          "execution_count": 95,
          "metadata": {},
          "output_type": "execute_result"
        }
      ],
      "source": [
        "# Validate that there are no missing values in the 'duration' column\n",
        "print('duration missing values:')\n",
        "sum(cleaned_netflix_data['duration'].isnull())\n"
      ]
    },
    {
      "cell_type": "code",
      "execution_count": 96,
      "metadata": {
        "id": "Q6UOELI_d8Rl",
        "scrolled": true
      },
      "outputs": [
        {
          "data": {
            "text/plain": [
              "(8800, 10)"
            ]
          },
          "execution_count": 96,
          "metadata": {},
          "output_type": "execute_result"
        }
      ],
      "source": [
        "# check the shape after this step\n",
        "cleaned_netflix_data.shape"
      ]
    },
    {
      "cell_type": "code",
      "execution_count": 97,
      "metadata": {
        "id": "mCjZmIQGd8Rl"
      },
      "outputs": [],
      "source": [
        "# Remove the 'cast' and 'country' columns from the cleaned Amazon Prime dataset\n",
        "cleaned_amazonPrime_data.drop(['cast', 'country'], axis=1, inplace=True)\n",
        "\n",
        "# Remove rows with missing values in the 'rating' column\n",
        "cleaned_amazonPrime_data = cleaned_amazonPrime_data.dropna(subset=['rating'])\n"
      ]
    },
    {
      "cell_type": "code",
      "execution_count": 98,
      "metadata": {
        "id": "4VuzQEYAd8Rm"
      },
      "outputs": [
        {
          "data": {
            "text/html": [
              "<div>\n",
              "<style scoped>\n",
              "    .dataframe tbody tr th:only-of-type {\n",
              "        vertical-align: middle;\n",
              "    }\n",
              "\n",
              "    .dataframe tbody tr th {\n",
              "        vertical-align: top;\n",
              "    }\n",
              "\n",
              "    .dataframe thead th {\n",
              "        text-align: right;\n",
              "    }\n",
              "</style>\n",
              "<table border=\"1\" class=\"dataframe\">\n",
              "  <thead>\n",
              "    <tr style=\"text-align: right;\">\n",
              "      <th></th>\n",
              "      <th>show_id</th>\n",
              "      <th>type</th>\n",
              "      <th>title</th>\n",
              "      <th>director</th>\n",
              "      <th>date_added</th>\n",
              "      <th>release_year</th>\n",
              "      <th>rating</th>\n",
              "      <th>duration</th>\n",
              "      <th>listed_in</th>\n",
              "      <th>description</th>\n",
              "    </tr>\n",
              "  </thead>\n",
              "  <tbody>\n",
              "    <tr>\n",
              "      <th>1</th>\n",
              "      <td>s2</td>\n",
              "      <td>Movie</td>\n",
              "      <td>Take Care Good Night</td>\n",
              "      <td>Girish Joshi</td>\n",
              "      <td>March 30, 2021</td>\n",
              "      <td>2018</td>\n",
              "      <td>13+</td>\n",
              "      <td>110 min</td>\n",
              "      <td>Drama, International</td>\n",
              "      <td>A Metro Family decides to fight a Cyber Crimin...</td>\n",
              "    </tr>\n",
              "    <tr>\n",
              "      <th>16</th>\n",
              "      <td>s17</td>\n",
              "      <td>Movie</td>\n",
              "      <td>Zoombies</td>\n",
              "      <td>Glenn Miller</td>\n",
              "      <td>NaN</td>\n",
              "      <td>2016</td>\n",
              "      <td>13+</td>\n",
              "      <td>87 min</td>\n",
              "      <td>Horror, Science Fiction</td>\n",
              "      <td>When a strange virus quickly spreads through a...</td>\n",
              "    </tr>\n",
              "    <tr>\n",
              "      <th>17</th>\n",
              "      <td>s18</td>\n",
              "      <td>TV Show</td>\n",
              "      <td>Zoo Babies</td>\n",
              "      <td>NaN</td>\n",
              "      <td>NaN</td>\n",
              "      <td>2008</td>\n",
              "      <td>ALL</td>\n",
              "      <td>1 Season</td>\n",
              "      <td>Kids, Special Interest</td>\n",
              "      <td>A heart warming and inspiring series that welc...</td>\n",
              "    </tr>\n",
              "    <tr>\n",
              "      <th>18</th>\n",
              "      <td>s19</td>\n",
              "      <td>TV Show</td>\n",
              "      <td>Zoë Coombs Marr: Bossy Bottom</td>\n",
              "      <td>NaN</td>\n",
              "      <td>NaN</td>\n",
              "      <td>2020</td>\n",
              "      <td>18+</td>\n",
              "      <td>1 Season</td>\n",
              "      <td>Comedy, Talk Show and Variety</td>\n",
              "      <td>Zoë Coombs Marr has been on hiatus. Sort of. F...</td>\n",
              "    </tr>\n",
              "    <tr>\n",
              "      <th>19</th>\n",
              "      <td>s20</td>\n",
              "      <td>Movie</td>\n",
              "      <td>Zoe</td>\n",
              "      <td>Drake Doremus</td>\n",
              "      <td>NaN</td>\n",
              "      <td>2018</td>\n",
              "      <td>R</td>\n",
              "      <td>104 min</td>\n",
              "      <td>Science Fiction</td>\n",
              "      <td>ZOE tells a tale of forbidden love between an ...</td>\n",
              "    </tr>\n",
              "  </tbody>\n",
              "</table>\n",
              "</div>"
            ],
            "text/plain": [
              "   show_id     type                          title       director  \\\n",
              "1       s2    Movie           Take Care Good Night   Girish Joshi   \n",
              "16     s17    Movie                       Zoombies   Glenn Miller   \n",
              "17     s18  TV Show                     Zoo Babies            NaN   \n",
              "18     s19  TV Show  Zoë Coombs Marr: Bossy Bottom            NaN   \n",
              "19     s20    Movie                            Zoe  Drake Doremus   \n",
              "\n",
              "        date_added  release_year rating  duration  \\\n",
              "1   March 30, 2021          2018    13+   110 min   \n",
              "16             NaN          2016    13+    87 min   \n",
              "17             NaN          2008    ALL  1 Season   \n",
              "18             NaN          2020    18+  1 Season   \n",
              "19             NaN          2018      R   104 min   \n",
              "\n",
              "                        listed_in  \\\n",
              "1            Drama, International   \n",
              "16        Horror, Science Fiction   \n",
              "17         Kids, Special Interest   \n",
              "18  Comedy, Talk Show and Variety   \n",
              "19                Science Fiction   \n",
              "\n",
              "                                          description  \n",
              "1   A Metro Family decides to fight a Cyber Crimin...  \n",
              "16  When a strange virus quickly spreads through a...  \n",
              "17  A heart warming and inspiring series that welc...  \n",
              "18  Zoë Coombs Marr has been on hiatus. Sort of. F...  \n",
              "19  ZOE tells a tale of forbidden love between an ...  "
            ]
          },
          "execution_count": 98,
          "metadata": {},
          "output_type": "execute_result"
        }
      ],
      "source": [
        "# Validate that the 'cast' and 'country' columns were successfully dropped by displaying the first few rows\n",
        "cleaned_amazonPrime_data.head()\n"
      ]
    },
    {
      "cell_type": "code",
      "execution_count": 99,
      "metadata": {
        "id": "Bk4qKPI5d8SA"
      },
      "outputs": [
        {
          "name": "stdout",
          "output_type": "stream",
          "text": [
            "rating missing values:\n"
          ]
        },
        {
          "data": {
            "text/plain": [
              "0"
            ]
          },
          "execution_count": 99,
          "metadata": {},
          "output_type": "execute_result"
        }
      ],
      "source": [
        "# Validate that there are no missing values in the 'rating' column\n",
        "print('rating missing values:')\n",
        "sum(cleaned_amazonPrime_data['rating'].isnull())\n"
      ]
    },
    {
      "cell_type": "code",
      "execution_count": 100,
      "metadata": {
        "id": "_I105sUYd8SA"
      },
      "outputs": [
        {
          "data": {
            "text/plain": [
              "(9331, 10)"
            ]
          },
          "execution_count": 100,
          "metadata": {},
          "output_type": "execute_result"
        }
      ],
      "source": [
        "# Check the shape of the cleaned Amazon Prime dataset to see the number of rows and columns after cleaning\n",
        "cleaned_amazonPrime_data.shape\n"
      ]
    },
    {
      "cell_type": "markdown",
      "metadata": {
        "id": "gWXFDYbOd8SB"
      },
      "source": [
        "**Justification:** We handled missing values in both datasets and removed two unnecessary columns ('cast' and 'country') to ensure the data is clean and relevant for analysis."
      ]
    },
    {
      "cell_type": "markdown",
      "metadata": {
        "id": "n_DAUbJrymBL"
      },
      "source": [
        "### **Quality Issue 2: Wrong data type in 'type'**"
      ]
    },
    {
      "cell_type": "code",
      "execution_count": 101,
      "metadata": {
        "id": "5Yfb-Yu5MTuE"
      },
      "outputs": [],
      "source": [
        "# Convert the 'type' column in the cleaned Netflix dataset to the category data type\n",
        "cleaned_netflix_data['type'] = cleaned_netflix_data['type'].astype('category')\n"
      ]
    },
    {
      "cell_type": "code",
      "execution_count": 102,
      "metadata": {
        "id": "ionB2sRaMUmY"
      },
      "outputs": [
        {
          "data": {
            "text/plain": [
              "CategoricalDtype(categories=['Movie', 'TV Show'], ordered=False, categories_dtype=object)"
            ]
          },
          "execution_count": 102,
          "metadata": {},
          "output_type": "execute_result"
        }
      ],
      "source": [
        "# Validate that the 'type' column has been successfully converted to the category data type\n",
        "cleaned_netflix_data['type'].dtype\n"
      ]
    },
    {
      "cell_type": "code",
      "execution_count": 103,
      "metadata": {
        "id": "N8BLrg_Sd8SC"
      },
      "outputs": [],
      "source": [
        "# Convert the 'type' column in the cleaned Amazon Prime dataset to the category data type\n",
        "cleaned_amazonPrime_data['type'] = cleaned_amazonPrime_data['type'].astype('category')\n"
      ]
    },
    {
      "cell_type": "code",
      "execution_count": 104,
      "metadata": {
        "id": "S2I_QciRd8SD"
      },
      "outputs": [
        {
          "data": {
            "text/plain": [
              "CategoricalDtype(categories=['Movie', 'TV Show'], ordered=False, categories_dtype=object)"
            ]
          },
          "execution_count": 104,
          "metadata": {},
          "output_type": "execute_result"
        }
      ],
      "source": [
        "# Validate that the 'type' column has been successfully converted to the category data type\n",
        "cleaned_amazonPrime_data['type'].dtype\n"
      ]
    },
    {
      "cell_type": "markdown",
      "metadata": {
        "id": "7qWPz-wid8SD"
      },
      "source": [
        "**Justification:** Converted the 'type' column from object to category in both datasets to optimize memory usage and improve processing speed.\n",
        "\n",
        "\n",
        "\n",
        "\n",
        "\n",
        "\n"
      ]
    },
    {
      "cell_type": "markdown",
      "metadata": {
        "id": "36LUcCI6d8SD"
      },
      "source": [
        "### **Quality Issue 3: Wrong data type in 'date_addedd'**"
      ]
    },
    {
      "cell_type": "code",
      "execution_count": 105,
      "metadata": {
        "id": "a8R3_7UOd8SD"
      },
      "outputs": [],
      "source": [
        "# Remove leading and trailing white spaces from the 'date_added' column in the cleaned Netflix dataset\n",
        "cleaned_netflix_data['date_added'] = cleaned_netflix_data['date_added'].str.strip()\n",
        "\n",
        "# Convert the 'date_added' column to datetime format\n",
        "cleaned_netflix_data['date_added'] = pd.to_datetime(cleaned_netflix_data['date_added'])\n"
      ]
    },
    {
      "cell_type": "code",
      "execution_count": 106,
      "metadata": {
        "id": "gsQwiFc1d8SD"
      },
      "outputs": [
        {
          "data": {
            "text/plain": [
              "show_id                 object\n",
              "type                  category\n",
              "title                   object\n",
              "director                object\n",
              "date_added      datetime64[ns]\n",
              "release_year             int64\n",
              "rating                  object\n",
              "duration                object\n",
              "listed_in               object\n",
              "description             object\n",
              "dtype: object"
            ]
          },
          "execution_count": 106,
          "metadata": {},
          "output_type": "execute_result"
        }
      ],
      "source": [
        "# Validate that the 'date_added' column has been successfully converted to datetime format by checking the data types\n",
        "cleaned_netflix_data.dtypes\n"
      ]
    },
    {
      "cell_type": "code",
      "execution_count": 107,
      "metadata": {
        "id": "5CVEWV1dd8SE"
      },
      "outputs": [],
      "source": [
        "# Remove leading and trailing white spaces from the 'date_added' column in the cleaned Amazon Prime dataset\n",
        "cleaned_amazonPrime_data['date_added'] = cleaned_amazonPrime_data['date_added'].str.strip()\n",
        "\n",
        "# Convert the 'date_added' column to datetime format\n",
        "cleaned_amazonPrime_data['date_added'] = pd.to_datetime(cleaned_amazonPrime_data['date_added'])\n"
      ]
    },
    {
      "cell_type": "code",
      "execution_count": 108,
      "metadata": {
        "id": "gauqcdbOd8SE"
      },
      "outputs": [
        {
          "data": {
            "text/plain": [
              "show_id                 object\n",
              "type                  category\n",
              "title                   object\n",
              "director                object\n",
              "date_added      datetime64[ns]\n",
              "release_year             int64\n",
              "rating                  object\n",
              "duration                object\n",
              "listed_in               object\n",
              "description             object\n",
              "dtype: object"
            ]
          },
          "execution_count": 108,
          "metadata": {},
          "output_type": "execute_result"
        }
      ],
      "source": [
        "# Validate that the 'date_added' column has been successfully converted to datetime format by checking the data types\n",
        "cleaned_amazonPrime_data.dtypes\n"
      ]
    },
    {
      "cell_type": "markdown",
      "metadata": {
        "id": "peLbJ48nd8SE"
      },
      "source": [
        "**Justification:** Converted the 'date_added' column to datetime format in both datasets for better date manipulation and analysis."
      ]
    },
    {
      "cell_type": "markdown",
      "metadata": {
        "id": "bIUrrfSNyOPR"
      },
      "source": [
        "### **Tidiness Issue 1: Multiple variables stored in 'duration'**"
      ]
    },
    {
      "cell_type": "code",
      "execution_count": 109,
      "metadata": {
        "id": "fib0zAm333bn"
      },
      "outputs": [],
      "source": [
        "# Create a new dataset to hold movie durations and TV show seasons\n",
        "# Extract numeric values from the 'duration' column using regular expressions\n",
        "# 'movie_duration' captures values followed by 'min'\n",
        "# 'show_seasons' captures values followed by 'Season' or 'Seasons'\n",
        "data_duration_nf = cleaned_netflix_data['duration'].str.extract(\n",
        "    r\"(?P<movie_duration>\\d+) min|(?P<show_seasons>\\d+) Season[s]?\")\n",
        "\n",
        "# Convert 'movie_duration' to integer format\n",
        "data_duration_nf['movie_duration'] = pd.to_numeric(\n",
        "    data_duration_nf['movie_duration']).astype(pd.Int16Dtype())\n",
        "\n",
        "# Convert 'show_seasons' to integer format\n",
        "data_duration_nf['show_seasons'] = pd.to_numeric(\n",
        "    data_duration_nf['show_seasons']).astype(pd.Int16Dtype())\n",
        "\n",
        "# Combine the new duration data with the original dataset and drop the 'duration' column\n",
        "cleaned_netflix_data = pd.concat([cleaned_netflix_data, data_duration_nf], axis=1).drop(columns=['duration'])\n"
      ]
    },
    {
      "cell_type": "code",
      "execution_count": 110,
      "metadata": {
        "id": "yhrnUGY_Nk8B"
      },
      "outputs": [
        {
          "data": {
            "text/html": [
              "<div>\n",
              "<style scoped>\n",
              "    .dataframe tbody tr th:only-of-type {\n",
              "        vertical-align: middle;\n",
              "    }\n",
              "\n",
              "    .dataframe tbody tr th {\n",
              "        vertical-align: top;\n",
              "    }\n",
              "\n",
              "    .dataframe thead th {\n",
              "        text-align: right;\n",
              "    }\n",
              "</style>\n",
              "<table border=\"1\" class=\"dataframe\">\n",
              "  <thead>\n",
              "    <tr style=\"text-align: right;\">\n",
              "      <th></th>\n",
              "      <th>show_id</th>\n",
              "      <th>type</th>\n",
              "      <th>title</th>\n",
              "      <th>director</th>\n",
              "      <th>date_added</th>\n",
              "      <th>release_year</th>\n",
              "      <th>rating</th>\n",
              "      <th>listed_in</th>\n",
              "      <th>description</th>\n",
              "      <th>movie_duration</th>\n",
              "      <th>show_seasons</th>\n",
              "    </tr>\n",
              "  </thead>\n",
              "  <tbody>\n",
              "    <tr>\n",
              "      <th>0</th>\n",
              "      <td>s1</td>\n",
              "      <td>Movie</td>\n",
              "      <td>Dick Johnson Is Dead</td>\n",
              "      <td>Kirsten Johnson</td>\n",
              "      <td>2021-09-25</td>\n",
              "      <td>2020</td>\n",
              "      <td>PG-13</td>\n",
              "      <td>Documentaries</td>\n",
              "      <td>As her father nears the end of his life, filmm...</td>\n",
              "      <td>90</td>\n",
              "      <td>&lt;NA&gt;</td>\n",
              "    </tr>\n",
              "    <tr>\n",
              "      <th>1</th>\n",
              "      <td>s2</td>\n",
              "      <td>TV Show</td>\n",
              "      <td>Blood &amp; Water</td>\n",
              "      <td>NaN</td>\n",
              "      <td>2021-09-24</td>\n",
              "      <td>2021</td>\n",
              "      <td>TV-MA</td>\n",
              "      <td>International TV Shows, TV Dramas, TV Mysteries</td>\n",
              "      <td>After crossing paths at a party, a Cape Town t...</td>\n",
              "      <td>&lt;NA&gt;</td>\n",
              "      <td>2</td>\n",
              "    </tr>\n",
              "    <tr>\n",
              "      <th>2</th>\n",
              "      <td>s3</td>\n",
              "      <td>TV Show</td>\n",
              "      <td>Ganglands</td>\n",
              "      <td>Julien Leclercq</td>\n",
              "      <td>2021-09-24</td>\n",
              "      <td>2021</td>\n",
              "      <td>TV-MA</td>\n",
              "      <td>Crime TV Shows, International TV Shows, TV Act...</td>\n",
              "      <td>To protect his family from a powerful drug lor...</td>\n",
              "      <td>&lt;NA&gt;</td>\n",
              "      <td>1</td>\n",
              "    </tr>\n",
              "    <tr>\n",
              "      <th>3</th>\n",
              "      <td>s4</td>\n",
              "      <td>TV Show</td>\n",
              "      <td>Jailbirds New Orleans</td>\n",
              "      <td>NaN</td>\n",
              "      <td>2021-09-24</td>\n",
              "      <td>2021</td>\n",
              "      <td>TV-MA</td>\n",
              "      <td>Docuseries, Reality TV</td>\n",
              "      <td>Feuds, flirtations and toilet talk go down amo...</td>\n",
              "      <td>&lt;NA&gt;</td>\n",
              "      <td>1</td>\n",
              "    </tr>\n",
              "    <tr>\n",
              "      <th>4</th>\n",
              "      <td>s5</td>\n",
              "      <td>TV Show</td>\n",
              "      <td>Kota Factory</td>\n",
              "      <td>NaN</td>\n",
              "      <td>2021-09-24</td>\n",
              "      <td>2021</td>\n",
              "      <td>TV-MA</td>\n",
              "      <td>International TV Shows, Romantic TV Shows, TV ...</td>\n",
              "      <td>In a city of coaching centers known to train I...</td>\n",
              "      <td>&lt;NA&gt;</td>\n",
              "      <td>2</td>\n",
              "    </tr>\n",
              "  </tbody>\n",
              "</table>\n",
              "</div>"
            ],
            "text/plain": [
              "  show_id     type                  title         director date_added  \\\n",
              "0      s1    Movie   Dick Johnson Is Dead  Kirsten Johnson 2021-09-25   \n",
              "1      s2  TV Show          Blood & Water              NaN 2021-09-24   \n",
              "2      s3  TV Show              Ganglands  Julien Leclercq 2021-09-24   \n",
              "3      s4  TV Show  Jailbirds New Orleans              NaN 2021-09-24   \n",
              "4      s5  TV Show           Kota Factory              NaN 2021-09-24   \n",
              "\n",
              "   release_year rating                                          listed_in  \\\n",
              "0          2020  PG-13                                      Documentaries   \n",
              "1          2021  TV-MA    International TV Shows, TV Dramas, TV Mysteries   \n",
              "2          2021  TV-MA  Crime TV Shows, International TV Shows, TV Act...   \n",
              "3          2021  TV-MA                             Docuseries, Reality TV   \n",
              "4          2021  TV-MA  International TV Shows, Romantic TV Shows, TV ...   \n",
              "\n",
              "                                         description  movie_duration  \\\n",
              "0  As her father nears the end of his life, filmm...              90   \n",
              "1  After crossing paths at a party, a Cape Town t...            <NA>   \n",
              "2  To protect his family from a powerful drug lor...            <NA>   \n",
              "3  Feuds, flirtations and toilet talk go down amo...            <NA>   \n",
              "4  In a city of coaching centers known to train I...            <NA>   \n",
              "\n",
              "   show_seasons  \n",
              "0          <NA>  \n",
              "1             2  \n",
              "2             1  \n",
              "3             1  \n",
              "4             2  "
            ]
          },
          "execution_count": 110,
          "metadata": {},
          "output_type": "execute_result"
        }
      ],
      "source": [
        "# Validate the cleaning by displaying the first few rows of the cleaned Netflix dataset\n",
        "cleaned_netflix_data.head()\n"
      ]
    },
    {
      "cell_type": "code",
      "execution_count": 111,
      "metadata": {
        "id": "qzdd58zCd8SF"
      },
      "outputs": [],
      "source": [
        "# Apply the same steps to the Amazon Prime dataset to handle the 'duration' column\n",
        "\n",
        "# Extract numeric values from the 'duration' column using regular expressions\n",
        "# 'movie_duration' captures values followed by 'min'\n",
        "# 'show_seasons' captures values followed by 'Season' or 'Seasons'\n",
        "data_duration_ap = cleaned_amazonPrime_data['duration'].str.extract(\n",
        "    r\"(?P<movie_duration>\\d+) min|(?P<show_seasons>\\d+) Season[s]?\")\n",
        "\n",
        "# Convert 'movie_duration' to integer format\n",
        "data_duration_ap['movie_duration'] = pd.to_numeric(\n",
        "    data_duration_ap['movie_duration']).astype(pd.Int16Dtype())\n",
        "\n",
        "# Convert 'show_seasons' to integer format\n",
        "data_duration_ap['show_seasons'] = pd.to_numeric(\n",
        "    data_duration_ap['show_seasons']).astype(pd.Int16Dtype())\n",
        "\n",
        "# Combine the new duration data with the original dataset and drop the 'duration' column\n",
        "cleaned_amazonPrime_data = pd.concat([cleaned_amazonPrime_data, data_duration_ap], axis=1).drop(columns=['duration'])\n"
      ]
    },
    {
      "cell_type": "code",
      "execution_count": 112,
      "metadata": {
        "id": "AssidwQ8d8SF"
      },
      "outputs": [
        {
          "data": {
            "text/html": [
              "<div>\n",
              "<style scoped>\n",
              "    .dataframe tbody tr th:only-of-type {\n",
              "        vertical-align: middle;\n",
              "    }\n",
              "\n",
              "    .dataframe tbody tr th {\n",
              "        vertical-align: top;\n",
              "    }\n",
              "\n",
              "    .dataframe thead th {\n",
              "        text-align: right;\n",
              "    }\n",
              "</style>\n",
              "<table border=\"1\" class=\"dataframe\">\n",
              "  <thead>\n",
              "    <tr style=\"text-align: right;\">\n",
              "      <th></th>\n",
              "      <th>show_id</th>\n",
              "      <th>type</th>\n",
              "      <th>title</th>\n",
              "      <th>director</th>\n",
              "      <th>date_added</th>\n",
              "      <th>release_year</th>\n",
              "      <th>rating</th>\n",
              "      <th>listed_in</th>\n",
              "      <th>description</th>\n",
              "      <th>movie_duration</th>\n",
              "      <th>show_seasons</th>\n",
              "    </tr>\n",
              "  </thead>\n",
              "  <tbody>\n",
              "    <tr>\n",
              "      <th>1</th>\n",
              "      <td>s2</td>\n",
              "      <td>Movie</td>\n",
              "      <td>Take Care Good Night</td>\n",
              "      <td>Girish Joshi</td>\n",
              "      <td>2021-03-30</td>\n",
              "      <td>2018</td>\n",
              "      <td>13+</td>\n",
              "      <td>Drama, International</td>\n",
              "      <td>A Metro Family decides to fight a Cyber Crimin...</td>\n",
              "      <td>110</td>\n",
              "      <td>&lt;NA&gt;</td>\n",
              "    </tr>\n",
              "    <tr>\n",
              "      <th>16</th>\n",
              "      <td>s17</td>\n",
              "      <td>Movie</td>\n",
              "      <td>Zoombies</td>\n",
              "      <td>Glenn Miller</td>\n",
              "      <td>NaT</td>\n",
              "      <td>2016</td>\n",
              "      <td>13+</td>\n",
              "      <td>Horror, Science Fiction</td>\n",
              "      <td>When a strange virus quickly spreads through a...</td>\n",
              "      <td>87</td>\n",
              "      <td>&lt;NA&gt;</td>\n",
              "    </tr>\n",
              "    <tr>\n",
              "      <th>17</th>\n",
              "      <td>s18</td>\n",
              "      <td>TV Show</td>\n",
              "      <td>Zoo Babies</td>\n",
              "      <td>NaN</td>\n",
              "      <td>NaT</td>\n",
              "      <td>2008</td>\n",
              "      <td>ALL</td>\n",
              "      <td>Kids, Special Interest</td>\n",
              "      <td>A heart warming and inspiring series that welc...</td>\n",
              "      <td>&lt;NA&gt;</td>\n",
              "      <td>1</td>\n",
              "    </tr>\n",
              "    <tr>\n",
              "      <th>18</th>\n",
              "      <td>s19</td>\n",
              "      <td>TV Show</td>\n",
              "      <td>Zoë Coombs Marr: Bossy Bottom</td>\n",
              "      <td>NaN</td>\n",
              "      <td>NaT</td>\n",
              "      <td>2020</td>\n",
              "      <td>18+</td>\n",
              "      <td>Comedy, Talk Show and Variety</td>\n",
              "      <td>Zoë Coombs Marr has been on hiatus. Sort of. F...</td>\n",
              "      <td>&lt;NA&gt;</td>\n",
              "      <td>1</td>\n",
              "    </tr>\n",
              "    <tr>\n",
              "      <th>19</th>\n",
              "      <td>s20</td>\n",
              "      <td>Movie</td>\n",
              "      <td>Zoe</td>\n",
              "      <td>Drake Doremus</td>\n",
              "      <td>NaT</td>\n",
              "      <td>2018</td>\n",
              "      <td>R</td>\n",
              "      <td>Science Fiction</td>\n",
              "      <td>ZOE tells a tale of forbidden love between an ...</td>\n",
              "      <td>104</td>\n",
              "      <td>&lt;NA&gt;</td>\n",
              "    </tr>\n",
              "  </tbody>\n",
              "</table>\n",
              "</div>"
            ],
            "text/plain": [
              "   show_id     type                          title       director date_added  \\\n",
              "1       s2    Movie           Take Care Good Night   Girish Joshi 2021-03-30   \n",
              "16     s17    Movie                       Zoombies   Glenn Miller        NaT   \n",
              "17     s18  TV Show                     Zoo Babies            NaN        NaT   \n",
              "18     s19  TV Show  Zoë Coombs Marr: Bossy Bottom            NaN        NaT   \n",
              "19     s20    Movie                            Zoe  Drake Doremus        NaT   \n",
              "\n",
              "    release_year rating                      listed_in  \\\n",
              "1           2018    13+           Drama, International   \n",
              "16          2016    13+        Horror, Science Fiction   \n",
              "17          2008    ALL         Kids, Special Interest   \n",
              "18          2020    18+  Comedy, Talk Show and Variety   \n",
              "19          2018      R                Science Fiction   \n",
              "\n",
              "                                          description  movie_duration  \\\n",
              "1   A Metro Family decides to fight a Cyber Crimin...             110   \n",
              "16  When a strange virus quickly spreads through a...              87   \n",
              "17  A heart warming and inspiring series that welc...            <NA>   \n",
              "18  Zoë Coombs Marr has been on hiatus. Sort of. F...            <NA>   \n",
              "19  ZOE tells a tale of forbidden love between an ...             104   \n",
              "\n",
              "    show_seasons  \n",
              "1           <NA>  \n",
              "16          <NA>  \n",
              "17             1  \n",
              "18             1  \n",
              "19          <NA>  "
            ]
          },
          "execution_count": 112,
          "metadata": {},
          "output_type": "execute_result"
        }
      ],
      "source": [
        "# Validate the cleaning by displaying the first few rows of the cleaned Amazon Prime dataset\n",
        "cleaned_amazonPrime_data.head()\n"
      ]
    },
    {
      "cell_type": "markdown",
      "metadata": {
        "id": "t__myJibd8SG"
      },
      "source": [
        "**Justification:** In both datasets, I created new columns for movie duration and TV show seasons. Then, I combined these new columns with the original dataset and removed the 'duration' column. This makes the data clearer and easier to analyze."
      ]
    },
    {
      "cell_type": "markdown",
      "metadata": {
        "id": "3rsQW3kSd8SG"
      },
      "source": [
        "### **Remove unnecessary variables and combine datasets**\n",
        "\n",
        "You can also combine the datasets before cleaning them, if that makes the process easier."
      ]
    },
    {
      "cell_type": "markdown",
      "metadata": {
        "id": "c-gamD-vd8SG"
      },
      "source": [
        "### **The columns 'show_id', 'date_added', and 'description' will be removed from both datasets.**"
      ]
    },
    {
      "cell_type": "code",
      "execution_count": 113,
      "metadata": {
        "id": "frlMEVKed8SG"
      },
      "outputs": [],
      "source": [
        "# Remove unnecessary columns from the cleaned Netflix dataset\n",
        "dropped_columns = ['show_id', 'date_added', 'description']\n",
        "cleaned_netflix_data = cleaned_netflix_data.drop(dropped_columns, axis=1)\n"
      ]
    },
    {
      "cell_type": "code",
      "execution_count": 114,
      "metadata": {
        "id": "Mc2VTNwld8SH"
      },
      "outputs": [],
      "source": [
        "# Remove unnecessary columns from the cleaned Amazon Prime dataset\n",
        "cleaned_amazonPrime_data = cleaned_amazonPrime_data.drop(dropped_columns, axis=1)\n"
      ]
    },
    {
      "cell_type": "code",
      "execution_count": 115,
      "metadata": {
        "id": "R1N-xaG3d8SH"
      },
      "outputs": [
        {
          "data": {
            "text/html": [
              "<div>\n",
              "<style scoped>\n",
              "    .dataframe tbody tr th:only-of-type {\n",
              "        vertical-align: middle;\n",
              "    }\n",
              "\n",
              "    .dataframe tbody tr th {\n",
              "        vertical-align: top;\n",
              "    }\n",
              "\n",
              "    .dataframe thead th {\n",
              "        text-align: right;\n",
              "    }\n",
              "</style>\n",
              "<table border=\"1\" class=\"dataframe\">\n",
              "  <thead>\n",
              "    <tr style=\"text-align: right;\">\n",
              "      <th></th>\n",
              "      <th>type</th>\n",
              "      <th>title</th>\n",
              "      <th>director</th>\n",
              "      <th>release_year</th>\n",
              "      <th>rating</th>\n",
              "      <th>listed_in</th>\n",
              "      <th>movie_duration</th>\n",
              "      <th>show_seasons</th>\n",
              "    </tr>\n",
              "  </thead>\n",
              "  <tbody>\n",
              "    <tr>\n",
              "      <th>0</th>\n",
              "      <td>Movie</td>\n",
              "      <td>Dick Johnson Is Dead</td>\n",
              "      <td>Kirsten Johnson</td>\n",
              "      <td>2020</td>\n",
              "      <td>PG-13</td>\n",
              "      <td>Documentaries</td>\n",
              "      <td>90</td>\n",
              "      <td>&lt;NA&gt;</td>\n",
              "    </tr>\n",
              "    <tr>\n",
              "      <th>1</th>\n",
              "      <td>TV Show</td>\n",
              "      <td>Blood &amp; Water</td>\n",
              "      <td>NaN</td>\n",
              "      <td>2021</td>\n",
              "      <td>TV-MA</td>\n",
              "      <td>International TV Shows, TV Dramas, TV Mysteries</td>\n",
              "      <td>&lt;NA&gt;</td>\n",
              "      <td>2</td>\n",
              "    </tr>\n",
              "    <tr>\n",
              "      <th>2</th>\n",
              "      <td>TV Show</td>\n",
              "      <td>Ganglands</td>\n",
              "      <td>Julien Leclercq</td>\n",
              "      <td>2021</td>\n",
              "      <td>TV-MA</td>\n",
              "      <td>Crime TV Shows, International TV Shows, TV Act...</td>\n",
              "      <td>&lt;NA&gt;</td>\n",
              "      <td>1</td>\n",
              "    </tr>\n",
              "    <tr>\n",
              "      <th>3</th>\n",
              "      <td>TV Show</td>\n",
              "      <td>Jailbirds New Orleans</td>\n",
              "      <td>NaN</td>\n",
              "      <td>2021</td>\n",
              "      <td>TV-MA</td>\n",
              "      <td>Docuseries, Reality TV</td>\n",
              "      <td>&lt;NA&gt;</td>\n",
              "      <td>1</td>\n",
              "    </tr>\n",
              "    <tr>\n",
              "      <th>4</th>\n",
              "      <td>TV Show</td>\n",
              "      <td>Kota Factory</td>\n",
              "      <td>NaN</td>\n",
              "      <td>2021</td>\n",
              "      <td>TV-MA</td>\n",
              "      <td>International TV Shows, Romantic TV Shows, TV ...</td>\n",
              "      <td>&lt;NA&gt;</td>\n",
              "      <td>2</td>\n",
              "    </tr>\n",
              "  </tbody>\n",
              "</table>\n",
              "</div>"
            ],
            "text/plain": [
              "      type                  title         director  release_year rating  \\\n",
              "0    Movie   Dick Johnson Is Dead  Kirsten Johnson          2020  PG-13   \n",
              "1  TV Show          Blood & Water              NaN          2021  TV-MA   \n",
              "2  TV Show              Ganglands  Julien Leclercq          2021  TV-MA   \n",
              "3  TV Show  Jailbirds New Orleans              NaN          2021  TV-MA   \n",
              "4  TV Show           Kota Factory              NaN          2021  TV-MA   \n",
              "\n",
              "                                           listed_in  movie_duration  \\\n",
              "0                                      Documentaries              90   \n",
              "1    International TV Shows, TV Dramas, TV Mysteries            <NA>   \n",
              "2  Crime TV Shows, International TV Shows, TV Act...            <NA>   \n",
              "3                             Docuseries, Reality TV            <NA>   \n",
              "4  International TV Shows, Romantic TV Shows, TV ...            <NA>   \n",
              "\n",
              "   show_seasons  \n",
              "0          <NA>  \n",
              "1             2  \n",
              "2             1  \n",
              "3             1  \n",
              "4             2  "
            ]
          },
          "execution_count": 115,
          "metadata": {},
          "output_type": "execute_result"
        }
      ],
      "source": [
        "# Reset the index of the cleaned Netflix dataset\n",
        "cleaned_netflix_data = cleaned_netflix_data.reset_index(drop=True)\n",
        "\n",
        "# Display the first few rows of the cleaned Netflix dataset to check the changes\n",
        "cleaned_netflix_data.head()\n"
      ]
    },
    {
      "cell_type": "code",
      "execution_count": 116,
      "metadata": {
        "id": "5OKI8-Nzd8SH",
        "scrolled": true
      },
      "outputs": [
        {
          "data": {
            "text/html": [
              "<div>\n",
              "<style scoped>\n",
              "    .dataframe tbody tr th:only-of-type {\n",
              "        vertical-align: middle;\n",
              "    }\n",
              "\n",
              "    .dataframe tbody tr th {\n",
              "        vertical-align: top;\n",
              "    }\n",
              "\n",
              "    .dataframe thead th {\n",
              "        text-align: right;\n",
              "    }\n",
              "</style>\n",
              "<table border=\"1\" class=\"dataframe\">\n",
              "  <thead>\n",
              "    <tr style=\"text-align: right;\">\n",
              "      <th></th>\n",
              "      <th>type</th>\n",
              "      <th>title</th>\n",
              "      <th>director</th>\n",
              "      <th>release_year</th>\n",
              "      <th>rating</th>\n",
              "      <th>listed_in</th>\n",
              "      <th>movie_duration</th>\n",
              "      <th>show_seasons</th>\n",
              "    </tr>\n",
              "  </thead>\n",
              "  <tbody>\n",
              "    <tr>\n",
              "      <th>0</th>\n",
              "      <td>Movie</td>\n",
              "      <td>Take Care Good Night</td>\n",
              "      <td>Girish Joshi</td>\n",
              "      <td>2018</td>\n",
              "      <td>13+</td>\n",
              "      <td>Drama, International</td>\n",
              "      <td>110</td>\n",
              "      <td>&lt;NA&gt;</td>\n",
              "    </tr>\n",
              "    <tr>\n",
              "      <th>1</th>\n",
              "      <td>Movie</td>\n",
              "      <td>Zoombies</td>\n",
              "      <td>Glenn Miller</td>\n",
              "      <td>2016</td>\n",
              "      <td>13+</td>\n",
              "      <td>Horror, Science Fiction</td>\n",
              "      <td>87</td>\n",
              "      <td>&lt;NA&gt;</td>\n",
              "    </tr>\n",
              "    <tr>\n",
              "      <th>2</th>\n",
              "      <td>TV Show</td>\n",
              "      <td>Zoo Babies</td>\n",
              "      <td>NaN</td>\n",
              "      <td>2008</td>\n",
              "      <td>ALL</td>\n",
              "      <td>Kids, Special Interest</td>\n",
              "      <td>&lt;NA&gt;</td>\n",
              "      <td>1</td>\n",
              "    </tr>\n",
              "    <tr>\n",
              "      <th>3</th>\n",
              "      <td>TV Show</td>\n",
              "      <td>Zoë Coombs Marr: Bossy Bottom</td>\n",
              "      <td>NaN</td>\n",
              "      <td>2020</td>\n",
              "      <td>18+</td>\n",
              "      <td>Comedy, Talk Show and Variety</td>\n",
              "      <td>&lt;NA&gt;</td>\n",
              "      <td>1</td>\n",
              "    </tr>\n",
              "    <tr>\n",
              "      <th>4</th>\n",
              "      <td>Movie</td>\n",
              "      <td>Zoe</td>\n",
              "      <td>Drake Doremus</td>\n",
              "      <td>2018</td>\n",
              "      <td>R</td>\n",
              "      <td>Science Fiction</td>\n",
              "      <td>104</td>\n",
              "      <td>&lt;NA&gt;</td>\n",
              "    </tr>\n",
              "  </tbody>\n",
              "</table>\n",
              "</div>"
            ],
            "text/plain": [
              "      type                          title       director  release_year rating  \\\n",
              "0    Movie           Take Care Good Night   Girish Joshi          2018    13+   \n",
              "1    Movie                       Zoombies   Glenn Miller          2016    13+   \n",
              "2  TV Show                     Zoo Babies            NaN          2008    ALL   \n",
              "3  TV Show  Zoë Coombs Marr: Bossy Bottom            NaN          2020    18+   \n",
              "4    Movie                            Zoe  Drake Doremus          2018      R   \n",
              "\n",
              "                       listed_in  movie_duration  show_seasons  \n",
              "0           Drama, International             110          <NA>  \n",
              "1        Horror, Science Fiction              87          <NA>  \n",
              "2         Kids, Special Interest            <NA>             1  \n",
              "3  Comedy, Talk Show and Variety            <NA>             1  \n",
              "4                Science Fiction             104          <NA>  "
            ]
          },
          "execution_count": 116,
          "metadata": {},
          "output_type": "execute_result"
        }
      ],
      "source": [
        "# Reset the index of the cleaned Amazon Prime dataset\n",
        "cleaned_amazonPrime_data = cleaned_amazonPrime_data.reset_index(drop=True)\n",
        "\n",
        "# Display the first few rows of the cleaned Amazon Prime dataset to check the changes\n",
        "cleaned_amazonPrime_data.head()\n"
      ]
    },
    {
      "cell_type": "markdown",
      "metadata": {
        "id": "x5G9Yty9d8SI"
      },
      "source": [
        "# **Combining the datasets ــــ using Appending**"
      ]
    },
    {
      "cell_type": "code",
      "execution_count": 117,
      "metadata": {
        "id": "zzjbFHL2d8SK"
      },
      "outputs": [
        {
          "data": {
            "text/html": [
              "<div>\n",
              "<style scoped>\n",
              "    .dataframe tbody tr th:only-of-type {\n",
              "        vertical-align: middle;\n",
              "    }\n",
              "\n",
              "    .dataframe tbody tr th {\n",
              "        vertical-align: top;\n",
              "    }\n",
              "\n",
              "    .dataframe thead th {\n",
              "        text-align: right;\n",
              "    }\n",
              "</style>\n",
              "<table border=\"1\" class=\"dataframe\">\n",
              "  <thead>\n",
              "    <tr style=\"text-align: right;\">\n",
              "      <th></th>\n",
              "      <th>type</th>\n",
              "      <th>title</th>\n",
              "      <th>director</th>\n",
              "      <th>release_year</th>\n",
              "      <th>rating</th>\n",
              "      <th>listed_in</th>\n",
              "      <th>movie_duration</th>\n",
              "      <th>show_seasons</th>\n",
              "    </tr>\n",
              "  </thead>\n",
              "  <tbody>\n",
              "    <tr>\n",
              "      <th>0</th>\n",
              "      <td>Movie</td>\n",
              "      <td>Dick Johnson Is Dead</td>\n",
              "      <td>Kirsten Johnson</td>\n",
              "      <td>2020</td>\n",
              "      <td>PG-13</td>\n",
              "      <td>Documentaries</td>\n",
              "      <td>90</td>\n",
              "      <td>&lt;NA&gt;</td>\n",
              "    </tr>\n",
              "    <tr>\n",
              "      <th>1</th>\n",
              "      <td>TV Show</td>\n",
              "      <td>Blood &amp; Water</td>\n",
              "      <td>NaN</td>\n",
              "      <td>2021</td>\n",
              "      <td>TV-MA</td>\n",
              "      <td>International TV Shows, TV Dramas, TV Mysteries</td>\n",
              "      <td>&lt;NA&gt;</td>\n",
              "      <td>2</td>\n",
              "    </tr>\n",
              "    <tr>\n",
              "      <th>2</th>\n",
              "      <td>TV Show</td>\n",
              "      <td>Ganglands</td>\n",
              "      <td>Julien Leclercq</td>\n",
              "      <td>2021</td>\n",
              "      <td>TV-MA</td>\n",
              "      <td>Crime TV Shows, International TV Shows, TV Act...</td>\n",
              "      <td>&lt;NA&gt;</td>\n",
              "      <td>1</td>\n",
              "    </tr>\n",
              "    <tr>\n",
              "      <th>3</th>\n",
              "      <td>TV Show</td>\n",
              "      <td>Jailbirds New Orleans</td>\n",
              "      <td>NaN</td>\n",
              "      <td>2021</td>\n",
              "      <td>TV-MA</td>\n",
              "      <td>Docuseries, Reality TV</td>\n",
              "      <td>&lt;NA&gt;</td>\n",
              "      <td>1</td>\n",
              "    </tr>\n",
              "    <tr>\n",
              "      <th>4</th>\n",
              "      <td>TV Show</td>\n",
              "      <td>Kota Factory</td>\n",
              "      <td>NaN</td>\n",
              "      <td>2021</td>\n",
              "      <td>TV-MA</td>\n",
              "      <td>International TV Shows, Romantic TV Shows, TV ...</td>\n",
              "      <td>&lt;NA&gt;</td>\n",
              "      <td>2</td>\n",
              "    </tr>\n",
              "  </tbody>\n",
              "</table>\n",
              "</div>"
            ],
            "text/plain": [
              "      type                  title         director  release_year rating  \\\n",
              "0    Movie   Dick Johnson Is Dead  Kirsten Johnson          2020  PG-13   \n",
              "1  TV Show          Blood & Water              NaN          2021  TV-MA   \n",
              "2  TV Show              Ganglands  Julien Leclercq          2021  TV-MA   \n",
              "3  TV Show  Jailbirds New Orleans              NaN          2021  TV-MA   \n",
              "4  TV Show           Kota Factory              NaN          2021  TV-MA   \n",
              "\n",
              "                                           listed_in  movie_duration  \\\n",
              "0                                      Documentaries              90   \n",
              "1    International TV Shows, TV Dramas, TV Mysteries            <NA>   \n",
              "2  Crime TV Shows, International TV Shows, TV Act...            <NA>   \n",
              "3                             Docuseries, Reality TV            <NA>   \n",
              "4  International TV Shows, Romantic TV Shows, TV ...            <NA>   \n",
              "\n",
              "   show_seasons  \n",
              "0          <NA>  \n",
              "1             2  \n",
              "2             1  \n",
              "3             1  \n",
              "4             2  "
            ]
          },
          "execution_count": 117,
          "metadata": {},
          "output_type": "execute_result"
        }
      ],
      "source": [
        "# Combine the cleaned Netflix and Amazon Prime datasets by appending them vertically using pandas .concat function\n",
        "combinedData = pd.concat([cleaned_netflix_data, cleaned_amazonPrime_data], ignore_index=True)\n",
        "\n",
        "# Display the first few rows of the combined dataset to check the result\n",
        "combinedData.head()\n"
      ]
    },
    {
      "cell_type": "code",
      "execution_count": 118,
      "metadata": {
        "id": "-K2NWZ2Jd8SK"
      },
      "outputs": [
        {
          "data": {
            "text/plain": [
              "378"
            ]
          },
          "execution_count": 118,
          "metadata": {},
          "output_type": "execute_result"
        }
      ],
      "source": [
        "# Check for duplicate titles in the combined dataset\n",
        "sum(combinedData['title'].duplicated())\n"
      ]
    },
    {
      "cell_type": "code",
      "execution_count": 119,
      "metadata": {
        "id": "2eICw90Hd8SK"
      },
      "outputs": [],
      "source": [
        "# Remove duplicate titles from the combined dataset\n",
        "combinedData.drop_duplicates(subset=['title'], inplace=True)\n"
      ]
    },
    {
      "cell_type": "code",
      "execution_count": 120,
      "metadata": {
        "id": "nLSe60eKd8SK"
      },
      "outputs": [
        {
          "data": {
            "text/plain": [
              "0"
            ]
          },
          "execution_count": 120,
          "metadata": {},
          "output_type": "execute_result"
        }
      ],
      "source": [
        "# Verify that duplicate titles have been removed from the combined dataset\n",
        "sum(combinedData['title'].duplicated())\n"
      ]
    },
    {
      "cell_type": "code",
      "execution_count": 121,
      "metadata": {
        "id": "UAydLY1id8SL"
      },
      "outputs": [
        {
          "data": {
            "text/html": [
              "<div>\n",
              "<style scoped>\n",
              "    .dataframe tbody tr th:only-of-type {\n",
              "        vertical-align: middle;\n",
              "    }\n",
              "\n",
              "    .dataframe tbody tr th {\n",
              "        vertical-align: top;\n",
              "    }\n",
              "\n",
              "    .dataframe thead th {\n",
              "        text-align: right;\n",
              "    }\n",
              "</style>\n",
              "<table border=\"1\" class=\"dataframe\">\n",
              "  <thead>\n",
              "    <tr style=\"text-align: right;\">\n",
              "      <th></th>\n",
              "      <th>type</th>\n",
              "      <th>title</th>\n",
              "      <th>director</th>\n",
              "      <th>release_year</th>\n",
              "      <th>rating</th>\n",
              "      <th>listed_in</th>\n",
              "      <th>movie_duration</th>\n",
              "      <th>show_seasons</th>\n",
              "    </tr>\n",
              "  </thead>\n",
              "  <tbody>\n",
              "    <tr>\n",
              "      <th>0</th>\n",
              "      <td>Movie</td>\n",
              "      <td>Dick Johnson Is Dead</td>\n",
              "      <td>Kirsten Johnson</td>\n",
              "      <td>2020</td>\n",
              "      <td>PG-13</td>\n",
              "      <td>Documentaries</td>\n",
              "      <td>90</td>\n",
              "      <td>&lt;NA&gt;</td>\n",
              "    </tr>\n",
              "    <tr>\n",
              "      <th>1</th>\n",
              "      <td>TV Show</td>\n",
              "      <td>Blood &amp; Water</td>\n",
              "      <td>NaN</td>\n",
              "      <td>2021</td>\n",
              "      <td>TV-MA</td>\n",
              "      <td>International TV Shows, TV Dramas, TV Mysteries</td>\n",
              "      <td>&lt;NA&gt;</td>\n",
              "      <td>2</td>\n",
              "    </tr>\n",
              "    <tr>\n",
              "      <th>2</th>\n",
              "      <td>TV Show</td>\n",
              "      <td>Ganglands</td>\n",
              "      <td>Julien Leclercq</td>\n",
              "      <td>2021</td>\n",
              "      <td>TV-MA</td>\n",
              "      <td>Crime TV Shows, International TV Shows, TV Act...</td>\n",
              "      <td>&lt;NA&gt;</td>\n",
              "      <td>1</td>\n",
              "    </tr>\n",
              "    <tr>\n",
              "      <th>3</th>\n",
              "      <td>TV Show</td>\n",
              "      <td>Jailbirds New Orleans</td>\n",
              "      <td>NaN</td>\n",
              "      <td>2021</td>\n",
              "      <td>TV-MA</td>\n",
              "      <td>Docuseries, Reality TV</td>\n",
              "      <td>&lt;NA&gt;</td>\n",
              "      <td>1</td>\n",
              "    </tr>\n",
              "    <tr>\n",
              "      <th>4</th>\n",
              "      <td>TV Show</td>\n",
              "      <td>Kota Factory</td>\n",
              "      <td>NaN</td>\n",
              "      <td>2021</td>\n",
              "      <td>TV-MA</td>\n",
              "      <td>International TV Shows, Romantic TV Shows, TV ...</td>\n",
              "      <td>&lt;NA&gt;</td>\n",
              "      <td>2</td>\n",
              "    </tr>\n",
              "    <tr>\n",
              "      <th>...</th>\n",
              "      <td>...</td>\n",
              "      <td>...</td>\n",
              "      <td>...</td>\n",
              "      <td>...</td>\n",
              "      <td>...</td>\n",
              "      <td>...</td>\n",
              "      <td>...</td>\n",
              "      <td>...</td>\n",
              "    </tr>\n",
              "    <tr>\n",
              "      <th>18126</th>\n",
              "      <td>Movie</td>\n",
              "      <td>Pride Of The Bowery</td>\n",
              "      <td>Joseph H. Lewis</td>\n",
              "      <td>1940</td>\n",
              "      <td>7+</td>\n",
              "      <td>Comedy</td>\n",
              "      <td>60</td>\n",
              "      <td>&lt;NA&gt;</td>\n",
              "    </tr>\n",
              "    <tr>\n",
              "      <th>18127</th>\n",
              "      <td>TV Show</td>\n",
              "      <td>Planet Patrol</td>\n",
              "      <td>NaN</td>\n",
              "      <td>2018</td>\n",
              "      <td>13+</td>\n",
              "      <td>TV Shows</td>\n",
              "      <td>&lt;NA&gt;</td>\n",
              "      <td>4</td>\n",
              "    </tr>\n",
              "    <tr>\n",
              "      <th>18128</th>\n",
              "      <td>Movie</td>\n",
              "      <td>Outpost</td>\n",
              "      <td>Steve Barker</td>\n",
              "      <td>2008</td>\n",
              "      <td>R</td>\n",
              "      <td>Action</td>\n",
              "      <td>90</td>\n",
              "      <td>&lt;NA&gt;</td>\n",
              "    </tr>\n",
              "    <tr>\n",
              "      <th>18129</th>\n",
              "      <td>TV Show</td>\n",
              "      <td>Maradona: Blessed Dream</td>\n",
              "      <td>NaN</td>\n",
              "      <td>2021</td>\n",
              "      <td>TV-MA</td>\n",
              "      <td>Drama, Sports</td>\n",
              "      <td>&lt;NA&gt;</td>\n",
              "      <td>1</td>\n",
              "    </tr>\n",
              "    <tr>\n",
              "      <th>18130</th>\n",
              "      <td>Movie</td>\n",
              "      <td>Harry Brown</td>\n",
              "      <td>Daniel Barber</td>\n",
              "      <td>2010</td>\n",
              "      <td>R</td>\n",
              "      <td>Action, Drama, Suspense</td>\n",
              "      <td>103</td>\n",
              "      <td>&lt;NA&gt;</td>\n",
              "    </tr>\n",
              "  </tbody>\n",
              "</table>\n",
              "<p>17753 rows × 8 columns</p>\n",
              "</div>"
            ],
            "text/plain": [
              "          type                    title         director  release_year rating  \\\n",
              "0        Movie     Dick Johnson Is Dead  Kirsten Johnson          2020  PG-13   \n",
              "1      TV Show            Blood & Water              NaN          2021  TV-MA   \n",
              "2      TV Show                Ganglands  Julien Leclercq          2021  TV-MA   \n",
              "3      TV Show    Jailbirds New Orleans              NaN          2021  TV-MA   \n",
              "4      TV Show             Kota Factory              NaN          2021  TV-MA   \n",
              "...        ...                      ...              ...           ...    ...   \n",
              "18126    Movie      Pride Of The Bowery  Joseph H. Lewis          1940     7+   \n",
              "18127  TV Show            Planet Patrol              NaN          2018    13+   \n",
              "18128    Movie                  Outpost     Steve Barker          2008      R   \n",
              "18129  TV Show  Maradona: Blessed Dream              NaN          2021  TV-MA   \n",
              "18130    Movie              Harry Brown    Daniel Barber          2010      R   \n",
              "\n",
              "                                               listed_in  movie_duration  \\\n",
              "0                                          Documentaries              90   \n",
              "1        International TV Shows, TV Dramas, TV Mysteries            <NA>   \n",
              "2      Crime TV Shows, International TV Shows, TV Act...            <NA>   \n",
              "3                                 Docuseries, Reality TV            <NA>   \n",
              "4      International TV Shows, Romantic TV Shows, TV ...            <NA>   \n",
              "...                                                  ...             ...   \n",
              "18126                                             Comedy              60   \n",
              "18127                                           TV Shows            <NA>   \n",
              "18128                                             Action              90   \n",
              "18129                                      Drama, Sports            <NA>   \n",
              "18130                            Action, Drama, Suspense             103   \n",
              "\n",
              "       show_seasons  \n",
              "0              <NA>  \n",
              "1                 2  \n",
              "2                 1  \n",
              "3                 1  \n",
              "4                 2  \n",
              "...             ...  \n",
              "18126          <NA>  \n",
              "18127             4  \n",
              "18128          <NA>  \n",
              "18129             1  \n",
              "18130          <NA>  \n",
              "\n",
              "[17753 rows x 8 columns]"
            ]
          },
          "execution_count": 121,
          "metadata": {},
          "output_type": "execute_result"
        }
      ],
      "source": [
        "# Display the entire combined dataset to review the final result\n",
        "combinedData\n"
      ]
    },
    {
      "cell_type": "markdown",
      "metadata": {
        "id": "F42urHuzttjF"
      },
      "source": [
        "## 4. Update your data store\n",
        "Update your local database or data repository with the cleaned data, adhering to best practices for organizing your cleaned data:\n",
        "\n",
        "* Ensure there are separate copies for each version of the data (raw and cleaned).\n",
        "* Use clear and descriptive file names for the datasets.\n",
        "* Save both the original raw data and the cleaned data in your database or data repository."
      ]
    },
    {
      "cell_type": "code",
      "execution_count": 122,
      "metadata": {
        "id": "V3uay7EJUV_L"
      },
      "outputs": [],
      "source": [
        "# Save the raw Netflix data to 'datasets/raw_netflix_data.csv' without including the index column.\n",
        "netflix_data.to_csv('datasets/raw_netflix_data.csv', index=False)\n",
        "\n",
        "# Save the raw Amazon Prime data to 'datasets/raw_amazon_prime_data.csv' without including the index column.\n",
        "amazonPrime_data.to_csv('datasets/raw_amazon_prime_data.csv', index=False)\n",
        "\n",
        "# Save the cleaned Netflix data to 'datasets/cleaned_netflix_data.csv' without including the index column.\n",
        "cleaned_netflix_data.to_csv('datasets/cleaned_netflix_data.csv', index=False)\n",
        "\n",
        "# Save the cleaned Amazon Prime data to 'datasets/cleaned_amazon_prime_data.csv' without including the index column.\n",
        "cleaned_amazonPrime_data.to_csv('datasets/cleaned_amazon_prime_data.csv', index=False)\n",
        "\n",
        "# Store the appended datasets (Netflix and Amazon Prime combined) to 'datasets/appended_netflix_amazonprime_data.csv.csv' without including the index column.\n",
        "combinedData.to_csv('datasets/appended_netflix_amazonprime_data.csv.csv', index=False)\n"
      ]
    },
    {
      "cell_type": "markdown",
      "metadata": {
        "id": "cGy_yddGtzhM"
      },
      "source": [
        "## 5. Answer the research question\n",
        "\n",
        "### **5.1:** Define and answer the research question\n",
        "Return to the problem statement from step 1 and utilize the cleaned data to answer the issue you asked. Make **at least** two visualizations using the cleaned data and explain how they assist you in answering the question."
      ]
    },
    {
      "cell_type": "markdown",
      "metadata": {
        "id": "gjedE4s4ZkEd"
      },
      "source": [
        "1- *Research question:* What were the most prolific years for film and television production?\n",
        "\n",
        "2- *Research question:* Who directs the most films and television shows?"
      ]
    },
    {
      "cell_type": "code",
      "execution_count": 123,
      "metadata": {
        "id": "Lkw3rW9kZmOm"
      },
      "outputs": [
        {
          "data": {
            "image/png": "[encoded data removed]",
            "text/plain": [
              "<Figure size 1000x600 with 1 Axes>"
            ]
          },
          "metadata": {},
          "output_type": "display_data"
        }
      ],
      "source": [
        "# Visualizing the distribution of production years for movies and TV shows\n",
        "\n",
        "# Create a figure and axis for the plot\n",
        "fig, ax = plt.subplots(figsize=(10, 6))\n",
        "\n",
        "# Plot histograms for movies (blue) and TV shows (red)\n",
        "ax.hist(combinedData[combinedData['type'] == 'Movie']['release_year'], bins=30, alpha=0.5, label='Movies', color='blue')\n",
        "ax.hist(combinedData[combinedData['type'] == 'TV Show']['release_year'], bins=30, alpha=0.5, label='TV Shows', color='red')\n",
        "\n",
        "# Set labels and title for the plot\n",
        "ax.set_xlabel('Year')\n",
        "ax.set_ylabel('Number of Productions')\n",
        "ax.set_title('Production Years for Movies and TV Shows')\n",
        "ax.legend()  # Show legend for movie and TV show categories\n",
        "\n",
        "# Display the plot\n",
        "plt.show()\n"
      ]
    },
    {
      "cell_type": "markdown",
      "metadata": {
        "id": "j9BaMv7Pd8SN"
      },
      "source": [
        "***Answer to research question:*** 2020 is the most recent year in which movies and television series were released"
      ]
    },
    {
      "cell_type": "code",
      "execution_count": 124,
      "metadata": {
        "id": "6fdK_8ZGZm9R"
      },
      "outputs": [
        {
          "data": {
            "image/png": "[encoded data removed]",
            "text/plain": [
              "<Figure size 1000x600 with 1 Axes>"
            ]
          },
          "metadata": {},
          "output_type": "display_data"
        }
      ],
      "source": [
        "# Visualizing the top 5 directors with the most movies and TV shows\n",
        "\n",
        "# Group the data by director and count the number of movies and TV shows for each director\n",
        "director_counts = combinedData.groupby('director')['title'].count().sort_values(ascending=False)\n",
        "\n",
        "# Select the top 5 directors with the highest counts of movies and TV shows\n",
        "top_directors = director_counts.head(5)\n",
        "\n",
        "# Create a bar plot to display the top directors\n",
        "plt.figure(figsize=(10, 6))\n",
        "top_directors.plot(kind='bar', color='skyblue')\n",
        "\n",
        "# Set labels and title for the plot\n",
        "plt.xlabel('Director')\n",
        "plt.ylabel('Number of Titles')\n",
        "plt.title('Top 5 Directors with the Most Movies and TV Shows')\n",
        "plt.xticks(rotation=45, ha='right')  # Rotate x-axis labels for better visibility\n",
        "\n",
        "# Display the plot\n",
        "plt.show()\n"
      ]
    },
    {
      "cell_type": "markdown",
      "metadata": {
        "id": "K5RgvMGUZoHn"
      },
      "source": [
        "**Response to study question**: 'Mark Knight' is the most prolific director."
      ]
    },
    {
      "cell_type": "markdown",
      "metadata": {
        "id": "0ezWXXZVj-TP"
      },
      "source": [
        "### **5.2:** Reflection\n",
        "What steps would you take if you had extra time to complete the job? For example, whatever data quality and structural concerns would you investigate more, and what research questions would you pursue?"
      ]
    },
    {
      "cell_type": "markdown",
      "metadata": {
        "id": "XB3RBDG5kFe1"
      },
      "source": [
        "***Answer:*** If given more time on this project, I would prioritize optimizing memory usage by correcting data types and handling the 'description' column for cleaning. This would involve ensuring all data is efficiently stored and processed.\n",
        "\n",
        "Regarding research questions, I would explore popular categories among movies and TV shows, as well as the most common ratings within these categories. This analysis could provide insights into viewer preferences and trends in content consumption."
      ]
    }
  ],
  "metadata": {
    "colab": {
      "provenance": []
    },
    "kernelspec": {
      "display_name": "Python 3 (ipykernel)",
      "language": "python",
      "name": "python3"
    },
    "language_info": {
      "codemirror_mode": {
        "name": "ipython",
        "version": 3
      },
      "file_extension": ".py",
      "mimetype": "text/x-python",
      "name": "python",
      "nbconvert_exporter": "python",
      "pygments_lexer": "ipython3",
      "version": "3.11.9"
    }
  },
  "nbformat": 4,
  "nbformat_minor": 0
}
